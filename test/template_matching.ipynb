{
 "cells": [
  {
   "cell_type": "code",
   "execution_count": 41,
   "metadata": {},
   "outputs": [],
   "source": [
    "#default double_tsek"
   ]
  },
  {
   "cell_type": "code",
   "execution_count": 42,
   "metadata": {},
   "outputs": [],
   "source": [
    "#export\n",
    "from collections import defaultdict\n",
    "import cv2\n",
    "import gzip\n",
    "import json\n",
    "import math\n",
    "from pathlib import Path\n",
    "import re\n",
    "\n",
    "from deskew import determine_skew\n",
    "import diff_match_patch as dmp_module\n",
    "from MTM import matchTemplates, drawBoxesOnRGB\n",
    "import numpy as np\n",
    "from openpecha.serializers import Serialize\n",
    "from xml.dom import minidom\n",
    "import yaml"
   ]
  },
  {
   "cell_type": "code",
   "execution_count": 43,
   "metadata": {},
   "outputs": [],
   "source": [
    "#exxport\n",
    "class config:\n",
    "    # ocr_output paths\n",
    "    ocr_path = Path('/home/tenzin/ML/project/Esukhia/Google-OCR/archive')\n",
    "    images_path = ocr_path/'images'/'W1PD95844'\n",
    "    res_path = ocr_path/'output'/'W1PD95844'\n",
    "    \n",
    "    # peydurma path\n",
    "    peydurma_path = Path('data/peydurma')\n",
    "    template_path = peydurma_path/'templates'\n",
    "    peydurma_meta_fn = peydurma_path/'tengyur-peydurma-bdrc.xml'\n",
    "    \n",
    "    # dergey opf path\n",
    "    op_path = Path('/home/tenzin/ML/project/Esukhia/openpecha-user/.openpecha/data/')\n",
    "    tengyur_opf = op_path/'P000002/P000002.opf'\n",
    "    \n",
    "    # annotation\n",
    "    double_tsek_sym = '$'\n",
    "    tsek = '་'\n",
    "    \n",
    "    # image\n",
    "    img_size = (3969, 2641)\n",
    "    \n",
    "    # dev\n",
    "    debug = True"
   ]
  },
  {
   "cell_type": "code",
   "execution_count": 44,
   "metadata": {},
   "outputs": [],
   "source": [
    "import matplotlib.pyplot as plt\n",
    "import pprint\n",
    "\n",
    "pp = pprint.PrettyPrinter(indent=4)\n",
    "\n",
    "def plot(img, cmap=None, sz=(10, 10), axis=False):\n",
    "    plt.figure(figsize=sz)\n",
    "    plt.grid(True)\n",
    "    if not axis:\n",
    "        plt.axis('off')\n",
    "        plt.grid(False)\n",
    "    img = cv2.cvtColor(img, cv2.COLOR_BGR2RGB)\n",
    "    plt.imshow(img, cmap=cmap)\n",
    "    plt.show()"
   ]
  },
  {
   "cell_type": "markdown",
   "metadata": {},
   "source": [
    "# Create template"
   ]
  },
  {
   "cell_type": "code",
   "execution_count": 45,
   "metadata": {},
   "outputs": [],
   "source": [
    "# def to_box(coord):\n",
    "#     x, y, w, h = coord\n",
    "#     x2, y2 = x+w, y+h\n",
    "#     return x, y, x2, y2\n",
    "\n",
    "\n",
    "# def create_template(img_path, coord, t_fn=None, template=False):\n",
    "#     img = cv2.imread(str(img_path))\n",
    "#     print(img.shape)\n",
    "#     if not template:\n",
    "#         img = cv2.resize(img, (config.img_size[1], config.img_size[0]))\n",
    "#     img_copy = img.copy()\n",
    "#     x1, y1, x2, y2 = to_box(coord)\n",
    "#     cv2.rectangle(img_copy, (x1, y1), (x2, y2), (255, 0, 0), 3)\n",
    "    \n",
    "#     x, y, w, h = coord\n",
    "#     template = img[y:y+h, x:x+w]\n",
    "#     plot(template)\n",
    "#     plot(img_copy, sz=(25, 25))\n",
    "\n",
    "#     if t_fn:\n",
    "#         cv2.imwrite(str(t_fn), template)"
   ]
  },
  {
   "cell_type": "code",
   "execution_count": 46,
   "metadata": {},
   "outputs": [],
   "source": [
    "# coord = (2139, 1282, 18, 135) # (x, y, w, h)\n",
    "# create_template('data/test-mantra.jpg', coord, t_fn=config.template_path/'double_tsek_02.png')"
   ]
  },
  {
   "cell_type": "code",
   "execution_count": 47,
   "metadata": {},
   "outputs": [],
   "source": [
    "# img_path = config.images_path/'I1PD95846'/'I1PD958460141.jpg'\n",
    "# coord = (1162, 1910, 13, 135) # (x, y, w, h)\n",
    "# create_template(img_path, coord, t_fn=config.template_path/'double_tsek_03.png')"
   ]
  },
  {
   "cell_type": "markdown",
   "metadata": {},
   "source": [
    "# Pure OpenCV2"
   ]
  },
  {
   "cell_type": "markdown",
   "metadata": {},
   "source": [
    "### detect paragraphs"
   ]
  },
  {
   "cell_type": "code",
   "execution_count": 48,
   "metadata": {},
   "outputs": [],
   "source": [
    "# #image = cv2.imread('data/test.jpeg')\n",
    "# image = cv2.imread('data/test_diff_size.jpeg')\n",
    "# image = imutils.resize(image, height=3969, width=2645)\n",
    "# gray = cv2.cvtColor(image, cv2.COLOR_BGR2GRAY)\n",
    "# blur = cv2.GaussianBlur(gray, (7,7), 0)\n",
    "# thresh = cv2.threshold(blur, 0, 255, cv2.THRESH_BINARY_INV + cv2.THRESH_OTSU)[1]\n",
    "\n",
    "# # Create rectangular structuring element and dilate\n",
    "# kernel = cv2.getStructuringElement(cv2.MORPH_RECT, (5,5))\n",
    "# dilate = cv2.dilate(thresh, kernel, iterations=7)\n",
    "# plot(dilate, cmap='gray', sz=(25, 25))\n",
    "\n",
    "# # Find contours and draw rectangle\n",
    "# cnts = cv2.findContours(dilate, cv2.RETR_EXTERNAL, cv2.CHAIN_APPROX_SIMPLE)\n",
    "# cnts = cnts[0] if len(cnts) == 2 else cnts[1]\n",
    "# for c in cnts:\n",
    "#     x,y,w,h = cv2.boundingRect(c)\n",
    "#     cv2.rectangle(image, (x, y), (x + w, y + h), (36,255,12), 2)\n",
    "\n",
    "# plot(image, sz=(25, 25))"
   ]
  },
  {
   "cell_type": "markdown",
   "metadata": {},
   "source": [
    "### Text Skew Correction"
   ]
  },
  {
   "cell_type": "code",
   "execution_count": 49,
   "metadata": {},
   "outputs": [],
   "source": [
    "# def image_deskew2(image, show_diff=False):\n",
    "#     gray = cv2.cvtColor(image, cv2.COLOR_BGR2GRAY)\n",
    "#     gray = cv2.bitwise_not(gray)\n",
    "#     thresh = cv2.threshold(gray, 0, 255, cv2.THRESH_BINARY | cv2.THRESH_OTSU)[1]\n",
    "#     coords = np.column_stack(np.where(thresh > 2))\n",
    "#     angle = cv2.minAreaRect(coords)[-1]\n",
    "\n",
    "#     if angle < -45:\n",
    "#         angle = -(90 + angle)\n",
    "#     else:\n",
    "#         angle = -angle\n",
    "\n",
    "#     # rotate the image to deskew it\n",
    "#     (h, w) = image.shape[:2]\n",
    "#     center = (w // 2, h // 2)\n",
    "#     M = cv2.getRotationMatrix2D(center, angle, 1.0)\n",
    "#     rotated = cv2.warpAffine(image, M, (w, h), flags=cv2.INTER_CUBIC, borderMode=cv2.BORDER_REPLICATE)\n",
    "#     print(f'[INFO] Image dskewed by {angle:.3} angles')\n",
    "    \n",
    "#     if show_diff:\n",
    "#         plot(image, sz=(15, 15), axis=True)\n",
    "#         plot(rotated, sz=(15, 15), axis=True)\n",
    "        \n",
    "#     return rotated\n",
    "\n",
    "def image_deskew(image, show_diff=False):\n",
    "    def rotate(image, angle, background):\n",
    "        old_width, old_height = image.shape[:2]\n",
    "        angle_radian = math.radians(angle)\n",
    "        width = abs(np.sin(angle_radian) * old_height) + abs(np.cos(angle_radian) * old_width)\n",
    "        height = abs(np.sin(angle_radian) * old_width) + abs(np.cos(angle_radian) * old_height)\n",
    "\n",
    "        image_center = tuple(np.array(image.shape[1::-1]) / 2)\n",
    "        rot_mat = cv2.getRotationMatrix2D(image_center, angle, 1.0)\n",
    "        rot_mat[1, 2] += (width - old_width) / 2\n",
    "        rot_mat[0, 2] += (height - old_height) / 2\n",
    "        return cv2.warpAffine(image, rot_mat, (int(round(height)), int(round(width))), borderValue=background)\n",
    "    \n",
    "    if isinstance(image, (str, Path)):\n",
    "        image = cv2.imread(str(image))\n",
    "    gray = cv2.cvtColor(image, cv2.COLOR_BGR2GRAY)\n",
    "    angle = determine_skew(gray)\n",
    "    backgroud = tuple([int(x) for x in image[10][10]])\n",
    "    rotated = rotate(image, angle, backgroud)\n",
    "    \n",
    "    print(f'[INFO] Image dskewed by {angle:.4} angles')\n",
    "    \n",
    "    if show_diff:\n",
    "        plot(image, sz=(15, 15), axis=True)\n",
    "        plot(rotated, sz=(15, 15), axis=True)\n",
    "        \n",
    "    return rotated"
   ]
  },
  {
   "cell_type": "code",
   "execution_count": 50,
   "metadata": {
    "scrolled": true
   },
   "outputs": [],
   "source": [
    "# %%time\n",
    "# _ = image_deskew(cv2.imread('data/peydurma/test-set/white_skewed_01.jpg'), show_diff=True);"
   ]
  },
  {
   "cell_type": "code",
   "execution_count": 51,
   "metadata": {
    "scrolled": false
   },
   "outputs": [],
   "source": [
    "# %%time\n",
    "# _ = image_deskew(cv2.imread('data/peydurma/test-set/white_skewed_dtsek_01.jpg'), show_diff=True);"
   ]
  },
  {
   "cell_type": "markdown",
   "metadata": {},
   "source": [
    "## Template matching"
   ]
  },
  {
   "cell_type": "code",
   "execution_count": 52,
   "metadata": {},
   "outputs": [],
   "source": [
    "# def sorted_matches(matches):\n",
    "#     h_sorted_match = []\n",
    "#     for x, y in matches:\n",
    "#         found_group = False\n",
    "#         if h_sorted_match:\n",
    "#             for h_list in h_sorted_match:\n",
    "#                 if abs(y-h_list[0][1]) < 5:\n",
    "#                     h_list.append((x, y))\n",
    "#                     found_group = True\n",
    "#         else:\n",
    "#             h_sorted_match.append([(x, y)])\n",
    "#             found_group = True\n",
    "\n",
    "#         if not found_group:\n",
    "#             h_sorted_match.append([(x, y)])\n",
    "        \n",
    "#     full_sorted_match = []\n",
    "#     for h_list in h_sorted_match:\n",
    "#         full_sorted_match.append(sorted(h_list, key=lambda x: x[0]))\n",
    "        \n",
    "#     return sum(full_sorted_match, [])\n",
    "    \n",
    "\n",
    "# def remove_dup_match(match_locations):\n",
    "#     cleaned_match = []\n",
    "#     prev_x, prev_y = 0, 0\n",
    "#     th = 2\n",
    "#     for x, y in sorted_matches(zip(match_locations[1], match_locations[0])):\n",
    "#         if abs(x-prev_x) < 5 and abs(y-prev_y) < 5: continue\n",
    "#         cleaned_match.append((x, y))\n",
    "#         prev_x, prev_y = x, y\n",
    "#     return cleaned_match\n",
    "\n",
    "\n",
    "# def template_match(img, templates):\n",
    "#     # create edged image\n",
    "#     if isinstance(img, str):\n",
    "#         img = cv2.imread(img)\n",
    "#     if size:\n",
    "#         img = imutils.resize(img, height=config.img_size[0], width=config.img_size[1])\n",
    "#     print('Image size:', img.shape)\n",
    "#     gray = cv2.cvtColor(img, cv2.COLOR_BGR2GRAY)\n",
    "#     #plot(gray, cmap='gray', sz=(50, 50))\n",
    "#     edged = cv2.Canny(gray, 100, 600)\n",
    "#     #plot(edged, cmap='gray', sz=(50, 50))\n",
    "    \n",
    "#     output = defaultdict(list)\n",
    "#     clone = img.copy()\n",
    "#     for template_ in templates:\n",
    "#         t_type, template, th, data = template_\n",
    "        \n",
    "#         # template matching\n",
    "#         result = cv2.matchTemplate(edged, template, cv2.TM_CCOEFF)\n",
    "#         min_val, max_val, min_loc, max_loc = cv2.minMaxLoc(result)\n",
    "#         max_thresh = max_val * th\n",
    "#         match_locations = np.where(result>=max_thresh)\n",
    "#         cleaned_match_locations = remove_dup_match(match_locations)\n",
    "        \n",
    "#         # Plot\n",
    "#         w, h = template.shape[::-1]\n",
    "#         for (x, y) in cleaned_match_locations:\n",
    "#             output[t_type].append((x, y))\n",
    "#             cv2.rectangle(clone, (x, y), (x+w, y+h), [0,0,255], 2)\n",
    "    \n",
    "#         print(f'No. {t_type} detected: {len(output[t_type])}')\n",
    "\n",
    "#     plot(clone, cmap='gray', sz=(25, 25))\n",
    "#     return output"
   ]
  },
  {
   "cell_type": "code",
   "execution_count": 53,
   "metadata": {},
   "outputs": [],
   "source": [
    "# templates = [\n",
    "#     ('rectangle', rect_template, 0.9, {}),\n",
    "#     #('circle', cir_template, 0.7, {'radius': radius})\n",
    "# ]"
   ]
  },
  {
   "cell_type": "code",
   "execution_count": 54,
   "metadata": {},
   "outputs": [],
   "source": [
    "#output = template_match('data/test-mantra.jpg', templates)"
   ]
  },
  {
   "cell_type": "markdown",
   "metadata": {},
   "source": [
    "# Multi-Template-Matching Library"
   ]
  },
  {
   "cell_type": "code",
   "execution_count": 55,
   "metadata": {},
   "outputs": [],
   "source": [
    "#export\n",
    "def get_templates(path):\n",
    "    templates = []\n",
    "    for p in Path(path).iterdir():\n",
    "        if not p.name.endswith('.png'): continue\n",
    "        templates.append((p.stem, cv2.imread(str(p))))\n",
    "    return templates\n",
    "\n",
    "def mtm(image, templates, show=False, th=0.9):\n",
    "    if isinstance(image, (str, Path)):\n",
    "        image = cv2.imread(str(image))\n",
    "    matches = []\n",
    "    try:\n",
    "        hits = matchTemplates(templates, image, score_threshold=th, method=cv2.TM_CCOEFF_NORMED, maxOverlap=0.3)\n",
    "        for x, y, w, h in list(hits['BBox']):\n",
    "            matches.append([x, y, x+w, y+h])\n",
    "        if show: image = drawBoxesOnRGB(image, hits, boxThickness=5, boxColor=(255,0,0))\n",
    "    except KeyError as ex:\n",
    "        if ex.args[0] == 'Score':\n",
    "            print('\\t- double tsek not found !')\n",
    "            return matches\n",
    "\n",
    "    print(f'\\t- no. of double tsek detected: {len(matches)}')    \n",
    "    if show:\n",
    "        plot(image, sz=(15, 15))\n",
    "    \n",
    "    return matches"
   ]
  },
  {
   "cell_type": "code",
   "execution_count": 56,
   "metadata": {},
   "outputs": [
    {
     "data": {
      "text/plain": [
       "2"
      ]
     },
     "execution_count": 56,
     "metadata": {},
     "output_type": "execute_result"
    }
   ],
   "source": [
    "templates = get_templates(config.template_path); len(templates)"
   ]
  },
  {
   "cell_type": "code",
   "execution_count": 57,
   "metadata": {},
   "outputs": [],
   "source": [
    "#test_output = mtm('data/test.jpeg', templates, show=True)"
   ]
  },
  {
   "cell_type": "code",
   "execution_count": 58,
   "metadata": {},
   "outputs": [],
   "source": [
    "#mtm('data/test-mantra.jpg', templates, show=True)"
   ]
  },
  {
   "cell_type": "code",
   "execution_count": 59,
   "metadata": {},
   "outputs": [],
   "source": [
    "#mtm('data/test-02.jpeg', templates, show=True)"
   ]
  },
  {
   "cell_type": "code",
   "execution_count": 60,
   "metadata": {},
   "outputs": [],
   "source": [
    "#mtm('data/test_diff_size.jpeg', templates, show=True)"
   ]
  },
  {
   "cell_type": "code",
   "execution_count": 61,
   "metadata": {},
   "outputs": [],
   "source": [
    "#mtm('data/test-03.jpg', templates, show=True)"
   ]
  },
  {
   "cell_type": "markdown",
   "metadata": {},
   "source": [
    "## Test on actual Peydurma Image"
   ]
  },
  {
   "cell_type": "code",
   "execution_count": 62,
   "metadata": {},
   "outputs": [],
   "source": [
    "#mtm('data/peydurma-05.jpg', templates, show=True)"
   ]
  },
  {
   "cell_type": "code",
   "execution_count": 63,
   "metadata": {},
   "outputs": [],
   "source": [
    "#mtm('data/peydurma/test-set/yellow_01.jpg', templates, show=True)"
   ]
  },
  {
   "cell_type": "code",
   "execution_count": 64,
   "metadata": {},
   "outputs": [],
   "source": [
    "#mtm('data/peydurma/test-set/yellow_02.jpg', templates, show=True)"
   ]
  },
  {
   "cell_type": "code",
   "execution_count": 65,
   "metadata": {},
   "outputs": [],
   "source": [
    "#skewed_output = mtm('data/peydurma/test-set/white_skewed_dtsek_01.jpg', templates, show=True)"
   ]
  },
  {
   "cell_type": "code",
   "execution_count": 66,
   "metadata": {},
   "outputs": [],
   "source": [
    "# deskewed_img = image_deskew(config.images_path/'I1PD95846'/'I1PD958460141.jpg')\n",
    "# plot(deskewed_img)\n",
    "#mtm(config.images_path/'I1PD95846'/'I1PD958460141.jpg', templates, show=True)"
   ]
  },
  {
   "cell_type": "markdown",
   "metadata": {},
   "source": [
    "# Find reinsertion span\n",
    "find line number and char location of double tsek\n",
    "- input: ocr_boxes, match_loc\n",
    "- output: line number and char index"
   ]
  },
  {
   "cell_type": "code",
   "execution_count": 67,
   "metadata": {},
   "outputs": [],
   "source": [
    "# from google.cloud import vision\n",
    "# from google.cloud.vision import types\n",
    "# from google.protobuf.json_format import MessageToJson\n",
    "\n",
    "# vision_client = vision.ImageAnnotatorClient()"
   ]
  },
  {
   "cell_type": "code",
   "execution_count": 68,
   "metadata": {},
   "outputs": [],
   "source": [
    "# def ocr(image, path):\n",
    "#     path = Path(path)\n",
    "#     res_fn = path.parent/f'{path.stem}.json'\n",
    "#     if res_fn.is_file():\n",
    "#         response = json.load(res_fn.open())\n",
    "#     else:\n",
    "#         if isinstance(image, (str, Path)):\n",
    "#             with open(path, 'rb') as image_file:\n",
    "#                 content = image_file.read()\n",
    "#         else:\n",
    "#             content = image\n",
    "#         image = types.Image(content=content)\n",
    "#         response_pb = vision_client.document_text_detection(image=image)\n",
    "#         response = eval(MessageToJson(response_pb))\n",
    "#         json.dump(response, res_fn.open('w'))\n",
    "#     return response\n",
    "\n",
    "# convert image array to image bytes\n",
    "# success, encoded_image = cv2.imencode('.jpg', image)\n",
    "# image_bytes = encoded_image.tobytes()\n",
    "# response = ocr(image_bytes, image_path)"
   ]
  },
  {
   "cell_type": "markdown",
   "metadata": {},
   "source": [
    "### Get OCR output\n",
    "- unzip ocr output and read the response json\n",
    "- resize the box w.r.t config.img_size"
   ]
  },
  {
   "cell_type": "code",
   "execution_count": 69,
   "metadata": {},
   "outputs": [],
   "source": [
    "#export\n",
    "def get_ocr_output(path):\n",
    "    imagegroup, img_fn = path.parts[-2:]\n",
    "    res_fn = config.res_path/imagegroup/f'{img_fn.split(\".\")[0]}.json.gz'\n",
    "    return json.load(gzip.open(str(res_fn), 'rb'))\n",
    "\n",
    "def get_symbol(response):\n",
    "    for page in response['fullTextAnnotation']['pages']:\n",
    "        for block in page['blocks']:\n",
    "            for paragraph in block['paragraphs']:\n",
    "                for word in paragraph['words']:\n",
    "                    for symbol in word['symbols']:\n",
    "                        char = symbol['text']\n",
    "                        v = symbol['boundingBox']['vertices']\n",
    "                        box = [v[0]['x'], v[0]['y'], v[2]['x'], v[2]['y']]\n",
    "                        yield char, box\n",
    "\n",
    "def get_full_text_annotations(response):\n",
    "    boxes, text = [], ''\n",
    "    for char, box in get_symbol(response):\n",
    "        text += char\n",
    "        boxes.append(box)\n",
    "    return boxes, text\n",
    "\n",
    "def resize_boxes(boxes, old_size):\n",
    "    \"`boxes` are in top-right and bottom-left coord system.\"\n",
    "    h, w = old_size[:2]\n",
    "    h_scale = config.img_size[0]/h\n",
    "    w_scale = config.img_size[1]/w\n",
    "    result = []\n",
    "    for box in boxes:\n",
    "        # adjust the box\n",
    "        box[0] *= w_scale\n",
    "        box[1] *= h_scale\n",
    "        box[2] *= w_scale\n",
    "        box[3] *= h_scale\n",
    "        box = list(map(int, box))\n",
    "        result.append(box)\n",
    "    return result"
   ]
  },
  {
   "cell_type": "code",
   "execution_count": 70,
   "metadata": {},
   "outputs": [],
   "source": [
    "def plot_boxes(img, boxes, show=True, color=[0,0,255]):\n",
    "    for x1, y1, x2, y2 in boxes[0]:\n",
    "        cv2.rectangle(img, (x1, y1), (x2, y2), color, 2)\n",
    "\n",
    "    if len(boxes) > 1:\n",
    "        for x1, y1, x2, y2 in boxes[1]:\n",
    "            cv2.rectangle(img, (x1, y1), (x2, y2), [255,0,0], 5)\n",
    "    if show: plot(img, sz=(25, 25))\n",
    "    else: return img"
   ]
  },
  {
   "cell_type": "code",
   "execution_count": 71,
   "metadata": {
    "scrolled": true
   },
   "outputs": [],
   "source": [
    "def test_resize_boxes(image_path):\n",
    "    image = cv2.imread(str(image_path))\n",
    "    old_size = image.shape\n",
    "    image = cv2.resize(image, (config.img_size[1], config.img_size[0]))\n",
    "    response = get_ocr_output(image_path)\n",
    "    boxes, text = get_full_text_annotations(response)\n",
    "    print(text)\n",
    "    boxes = resize_boxes(boxes, old_size)\n",
    "    plot_boxes(image, [boxes, []])"
   ]
  },
  {
   "cell_type": "code",
   "execution_count": 72,
   "metadata": {},
   "outputs": [],
   "source": [
    "#test_resize_boxes(config.images_path/'I1PD95846'/'I1PD958460142.jpg')"
   ]
  },
  {
   "cell_type": "code",
   "execution_count": 73,
   "metadata": {},
   "outputs": [],
   "source": [
    "#test_resize_boxes(config.images_path/'I1PD95846'/'I1PD958460141.jpg')"
   ]
  },
  {
   "cell_type": "markdown",
   "metadata": {},
   "source": [
    "# Get context of Double Tsek"
   ]
  },
  {
   "cell_type": "code",
   "execution_count": 74,
   "metadata": {},
   "outputs": [],
   "source": [
    "#export\n",
    "def cls_box_into_line(boxes, th=20):\n",
    "    lines = []\n",
    "    line = []\n",
    "    prev_y1 = boxes[0][1]\n",
    "    for box in boxes:\n",
    "        if abs(box[1] - prev_y1) < th:\n",
    "            line.append(box)\n",
    "        else:\n",
    "            lines.append(line)\n",
    "            line = []\n",
    "            line.append(box)\n",
    "        prev_y1 = box[1]\n",
    "    else:\n",
    "        if line: lines.append(line)\n",
    "    return lines"
   ]
  },
  {
   "cell_type": "code",
   "execution_count": 75,
   "metadata": {},
   "outputs": [],
   "source": [
    "def test_box_into_line(image_path):\n",
    "    image = cv2.imread(str(image_path))\n",
    "    old_size = image.shape\n",
    "    image = cv2.resize(image, (config.img_size[1], config.img_size[0]))\n",
    "    response = get_ocr_output(image_path)\n",
    "    boxes, text = get_full_text_annotations(response)\n",
    "    boxes = resize_boxes(boxes, old_size)\n",
    "    boxe_lines = cls_box_into_line(boxes)\n",
    "    \n",
    "    for box_line in boxe_lines:\n",
    "        r, g, b = map(int, np.random.choice(range(256), size=3))\n",
    "        image = plot_boxes(image, [box_line], show=False, color=(r,g,b))\n",
    "    plot(image, sz=(25, 25))\n",
    "    \n",
    "#test_box_into_line(config.images_path/'I1PD95846'/'I1PD958460048.jpg')"
   ]
  },
  {
   "cell_type": "code",
   "execution_count": 76,
   "metadata": {},
   "outputs": [],
   "source": [
    "#export\n",
    "def find_double_tsek_bf(matched_box, boxes, th=20):\n",
    "    box_lines = cls_box_into_line(boxes)\n",
    "    pos = 0\n",
    "    prev_x1 = 0\n",
    "    for box_line in box_lines:\n",
    "        if abs(matched_box[1] - box_line[0][1]) < th:\n",
    "            for i, box in enumerate(box_line):\n",
    "                if matched_box[0] > prev_x1 and matched_box[0] < box[0]:\n",
    "                    pos += i-1\n",
    "                    return pos\n",
    "        pos += len(box_line)\n",
    "        \n",
    "\n",
    "def compute_iou(box_arr1, box_arr2):\n",
    "    x11, y11, x12, y12 = np.split(box_arr1, 4, axis=1)\n",
    "    x21, y21, x22, y22 = np.split(box_arr2, 4, axis=1)\n",
    "    \n",
    "    xA = np.maximum(x11, np.transpose(x21))\n",
    "    yA = np.maximum(y11, np.transpose(y21))\n",
    "    xB = np.minimum(x12, np.transpose(x22))\n",
    "    yB = np.minimum(y12, np.transpose(y22))\n",
    "    interArea = np.maximum((xB - xA + 1), 0) * np.maximum((yB - yA + 1), 0)\n",
    "    boxAArea = (x12 - x11 + 1) * (y12 - y11 + 1)\n",
    "    boxBArea = (x22 - x21 + 1) * (y22 - y21 + 1)\n",
    "    iou = interArea / (boxAArea + np.transpose(boxBArea) - interArea)\n",
    "    \n",
    "    return iou\n",
    "\n",
    "\n",
    "def get_double_tsek_idx(image_path, templates, deskew=False, show_boxes=False):\n",
    "    # load, deskew and resize the image\n",
    "    image = cv2.imread(str(image_path))\n",
    "    old_size = image.shape\n",
    "    if deskew: image = image_deskew(image)\n",
    "    image = image = cv2.resize(image, (config.img_size[1], config.img_size[0]))\n",
    "    \n",
    "    # find the double tsek boxes\n",
    "    matches = mtm(image, templates)\n",
    "    \n",
    "    # Get ocr boxes\n",
    "    response = get_ocr_output(image_path)\n",
    "    boxes, text = get_full_text_annotations(response)\n",
    "    if not matches: return [], text\n",
    "    boxes = resize_boxes(boxes, old_size)\n",
    "    \n",
    "    # find double tsek char index\n",
    "    iou_matrix = compute_iou(np.array(matches), np.array(boxes))\n",
    "    if show_boxes: plot_boxes(image, [boxes, matches])\n",
    "    idxs = list(np.argmax(iou_matrix, axis=1))\n",
    "    if 0 in idxs:\n",
    "        undetected_box_idx = idxs.index(0)\n",
    "        undetected_box_char_idx = find_double_tsek_bf(matches[undetected_box_idx], boxes)\n",
    "        idxs[undetected_box_idx] = undetected_box_char_idx\n",
    "    return idxs, text"
   ]
  },
  {
   "cell_type": "code",
   "execution_count": 77,
   "metadata": {
    "scrolled": true
   },
   "outputs": [],
   "source": [
    "def test_get_double_tsek_idx(image_path):\n",
    "    idxs, text = get_double_tsek_idx(image_path, templates, show_boxes=True)\n",
    "    for cc in idxs:\n",
    "        print(text[cc-10:cc], text[cc], text[cc+1: cc+10])"
   ]
  },
  {
   "cell_type": "code",
   "execution_count": 78,
   "metadata": {},
   "outputs": [],
   "source": [
    "#test_get_double_tsek_idx(config.images_path/'I1PD95846'/'I1PD958460048.jpg')"
   ]
  },
  {
   "cell_type": "code",
   "execution_count": 79,
   "metadata": {},
   "outputs": [],
   "source": [
    "#test_get_double_tsek_idx(config.images_path/'I1PD95846'/'I1PD958460043.jpg')"
   ]
  },
  {
   "cell_type": "code",
   "execution_count": 80,
   "metadata": {},
   "outputs": [],
   "source": [
    "#test_get_double_tsek_idx(config.images_path/'I1PD95846'/'I1PD958460047.jpg')"
   ]
  },
  {
   "cell_type": "code",
   "execution_count": 81,
   "metadata": {},
   "outputs": [],
   "source": [
    "#export\n",
    "def rm_running_head(text):\n",
    "    r_head_end_idx = text.find('༡')\n",
    "    if r_head_end_idx >= 0  and r_head_end_idx < 500:\n",
    "        return text[r_head_end_idx+1:]\n",
    "    else:\n",
    "        return text[text.find('།')+1:]\n",
    "\n",
    "def rm_noise(text):\n",
    "    'remove numbers and etc'\n",
    "    text = re.sub(f'\\d+', '', text)\n",
    "    for r in ['=', '|', '“', '”', ']', '）', '>', '©', '–', '-', '༸', ('་ི', '་')]:\n",
    "        if isinstance(r, tuple):\n",
    "            text = text.replace(r[0], r[1])\n",
    "        else:\n",
    "            text = text.replace(r, '')\n",
    "    return text\n",
    "\n",
    "def postprocess(text, annotated=True):\n",
    "    text = rm_running_head(text)\n",
    "    text = rm_noise(text)\n",
    "    if annotated:\n",
    "        for f, t in [\n",
    "            (f'{config.double_tsek_sym}{config.tsek}',\n",
    "             f'{config.tsek}{config.double_tsek_sym}')\n",
    "                 ]:\n",
    "            text = text.replace(f, t)\n",
    "    return text\n",
    "\n",
    "def str_insert(text, idx, char):\n",
    "    text = text[:idx] + char + text[idx:]\n",
    "    return text\n",
    "\n",
    "def add_double_tsek(text, idxs):\n",
    "    for i, idx in enumerate(idxs):\n",
    "        text = str_insert(text, idx+i, config.double_tsek_sym)\n",
    "    return text\n",
    "\n",
    "def get_double_tsek_text(path):\n",
    "    base_text = ''\n",
    "    ann_text = ''\n",
    "    for i, path in enumerate(sorted((path).iterdir())):\n",
    "        if i == 10: break\n",
    "        print(f'[INFO] {i+1} - Processing {path.name} ...')\n",
    "        idxs, text = get_double_tsek_idx(path, templates)\n",
    "        base_text += postprocess(text, annotated=False)\n",
    "        ann_text += f'\\n\\n{path.name}' if config.debug else \"\"\n",
    "        ann_text += postprocess(add_double_tsek(text, idxs))\n",
    "    return base_text, ann_text"
   ]
  },
  {
   "cell_type": "code",
   "execution_count": 82,
   "metadata": {},
   "outputs": [],
   "source": [
    "#base_text, ann_text = get_double_tsek_text(config.images_path/'I1PD95846')\n",
    "#print(ann_text)"
   ]
  },
  {
   "cell_type": "markdown",
   "metadata": {},
   "source": [
    "# Transfer Annotations\n",
    "\n",
    "Steps:\n",
    "1. Paser peydurm-tengyur text index\n",
    "1. Map peydurma-tengyur text-id to dergey-tengyur text-id\n",
    "1. Extract corresponding dergey-tengyur text\n",
    "1. Extract double-tsek from peyduma-tengyur text\n",
    "1. Create dmp patch of double tsek\n",
    "1. Apply the dmp patch to dergey-tengyur\n",
    "1. Parse the dobule-tsek from dergey-tengyur"
   ]
  },
  {
   "cell_type": "markdown",
   "metadata": {},
   "source": [
    "### 1. Parser peydurma tengyur text index"
   ]
  },
  {
   "cell_type": "code",
   "execution_count": 95,
   "metadata": {},
   "outputs": [],
   "source": [
    "#export\n",
    "def get_text_span(node):\n",
    "    vol, span = '', []\n",
    "    for loc in node.getElementsByTagName('outline:location'):\n",
    "        vol = int(loc.attributes['vol'].value)\n",
    "        span.append(int(loc.attributes['page'].value))\n",
    "    if not vol:\n",
    "        return\n",
    "    return {vol: {'start': min(span), 'end': max(span)}}\n",
    "\n",
    "def clean_text_id(text_id):\n",
    "    cats = '  abcd'\n",
    "    text_id = text_id.strip()\n",
    "    if text_id == '00':\n",
    "        return\n",
    "    elif '-' in text_id:\n",
    "        id_, cat = text_id.split('-')\n",
    "        if len(cat) > 1: return\n",
    "        return f'{id_}{cats[int(cat.strip())]}'\n",
    "    elif ';' in text_id:\n",
    "        return text_id.split(';')[0].strip()\n",
    "    else:\n",
    "        return text_id      \n",
    "\n",
    "def get_toh(fn):\n",
    "    maps = defaultdict(list)\n",
    "    dom = minidom.parse(str(fn))\n",
    "    for node in dom.getElementsByTagName('outline:node'):\n",
    "        if node.attributes['type'].value != \"text\": continue\n",
    "        for desc_node in node.getElementsByTagName('outline:description'):\n",
    "            attrs = desc_node.attributes\n",
    "            if 'type' in attrs and attrs['type'].value == \"toh\":\n",
    "                desc_childnodes = desc_node.childNodes\n",
    "                if not desc_childnodes: break\n",
    "                text_id = clean_text_id(desc_childnodes[0].data)\n",
    "                if not text_id: break\n",
    "                maps[text_id].append(get_text_span(node))\n",
    "                break\n",
    "    return maps"
   ]
  },
  {
   "cell_type": "code",
   "execution_count": 96,
   "metadata": {
    "scrolled": true
   },
   "outputs": [],
   "source": [
    "#export\n",
    "toh = get_toh(config.peydurma_meta_fn)"
   ]
  },
  {
   "cell_type": "markdown",
   "metadata": {},
   "source": [
    "### 2. Map peydurma toh to dergey text_id"
   ]
  },
  {
   "cell_type": "code",
   "execution_count": 97,
   "metadata": {},
   "outputs": [],
   "source": [
    "#export\n",
    "def map_text_id(text_id, is_kangyur=False):\n",
    "    if is_kangyur:\n",
    "        return f'T{text_id}'\n",
    "    else:\n",
    "        return f'D{text_id}'"
   ]
  },
  {
   "cell_type": "markdown",
   "metadata": {},
   "source": [
    "### 2. Extract corresponding dergey-tengyur text"
   ]
  },
  {
   "cell_type": "code",
   "execution_count": 99,
   "metadata": {},
   "outputs": [],
   "source": [
    "#export\n",
    "index_layer = yaml.safe_load((config.tengyur_opf/'index.yml').open())"
   ]
  },
  {
   "cell_type": "code",
   "execution_count": 100,
   "metadata": {},
   "outputs": [],
   "source": [
    "#export\n",
    "def get_base_text(peydurma_text_id, opf_path, index_layer):\n",
    "    def _postprocess(text):\n",
    "        for f, t in [('\\n', '')]:\n",
    "            text = text.replace(f, t)\n",
    "        return text\n",
    "    \n",
    "    d_text_id = map_text_id(peydurma_text_id)\n",
    "    if not d_text_id: return ''\n",
    "    serializer = Serialize(opf_path, text_id=d_text_id, index_layer=index_layer)\n",
    "    base_text = ''.join(serializer.get_text_base_layer().values())\n",
    "    return _postprocess(base_text)"
   ]
  },
  {
   "cell_type": "code",
   "execution_count": 101,
   "metadata": {},
   "outputs": [
    {
     "data": {
      "text/plain": [
       "'༄༅༅། །རྒྱ་གར་སྐད་དུ། བི་ཤིཥྚ་སྟ་བཿ། བོད་སྐད་དུ། ཁྱད་པར་དུ་འཕགས་པའི་བསྟོད་པ། དེ་བཞིན་གཤེགས་པ་ཐམས་ཅད་ལ་ཕྱག་འཚལ་ལོ། །བདག་ནི་སྟོན་པ་གཞན་སྤངས་ནས། །བཅོམ་ལྡན་ཁྱོད་ལ་སྐྱབས་མཆིས་པ། །དེ་ཅིའི་སླད་དུ་ཞེ་ན་ཁྱོད། །སྐྱོན་མི་མངའ་ལ་ཡོན་ཏན་ལྡན། །གང་ཕྱིར་འཇིག་རྟེན་སྐྱོན་ལ་དགའ། །ཡོན་ཏན་འཛིན་པར་ཞེན་པས་ན། །སྐྱོན་ཡང་ཡོན་ཏན་ལྟར་མཐོང་ནས། །གཞན་ལ་སྐྱབས་སུ་མཆིས་པར་གྱུར། །ཁྱབ་འཇུག་དབང་ཕྱུག་ལ་སོགས་པ། །དེ་ལ་སྐྱེ་བོ་དགའ་དད་པས། །དེ་ཡི་ཡོན་ཏན་གང་བསྒྲགས་པ། །ཁྱོད་ཀྱི་བསྟན་ལ་དེ་དག་སྐྱོན། །ལྷ་ཆེན་ཁྲོས་པའི་མདའ་གཅིག་གིས། །གྲོང་ཁྱེར་སུམ་བརྩེགས་བསྲེགས་ཞེས་གདའ། །ཁྱོད་ཀྱི་ཡེ་ཤེས་མདའ་ཆེན་གྱིས། །ཁྲོ་བའི་སེམས་ཉིད་ངེས་པར་བསྲེགས། །ལྷ་ཆེན་གྱིས་ནི་འདོད་པ་དག །བསྲེགས་ཉེས་པས་ན་ཕྱིར་ཡང་དྲངས། །ཁྱོད་ཀྱི་ཡེ་ཤེས་ཞུགས་ཀྱིས་ནི། །འདོད་པ་རྩད་བཅད་བསྲེགས་ནས་བཏོན། །ལྷ་ཆེན་ཐིག་ལེའི་མཆོག་མ་ལ། །ཆགས་པ་སྐྱེས་པས་གདོང་བཞི་བྱུང་། །བདུད་ཀྱི་བུ་མོ་སྒེག་མོ་ཡིས། །ཁྱོད་ཀྱི་བ་སྤུའི་རྩེ་མ་གཡོས། །ལྷ་ཆེན་ཕྱེད་ནི་ཆུང་མ་བས། །ངུར་པ་ཡིས་ཀྱང་ཐུབ་མ་ལགས། །ཁྱོད་ནི་བདེ་བར་བགྱིད་པ་ཡི། །འདོད་པ་ཉིད་ཀྱིས་རྨོངས་མ་གྱུར། །འཁོར་ལོ་མདུང་ཐུང་ཅན་དག་གིས། །བདུད་སྟོབས་དེ་ལས་རྒྱལ་མི་ནུས། །ཁྱོད་ནི་འཁོར་ལོ་མདུང་མེད་པར། །བྱམས་པའི་མཚོན་གང་ལགས་པས་རྒྱལ། །རྒན་པོས་ཁྱབ་འཇུག་མདའ་ཡིས་བསྣུན། །ལྷ་ཆེན་མགྲིན་པ་སྔོ་གྱུར་པས། །ལྷ་འདི་གཉིས་ལ་གནོད་བགྱིད་མཆིས། །མགོན་ཁྱོད་གནོད་བགྱིད་བྲལ་བ་ལགས། །ཁྱབ་འཇུག་མི་ཐུང་གཟུགས་བསྒྱུར་ནས། །གཡོ་ཐབས་ཀྱིས་ནི་སྟོབས་ལྡན་བསླུས། །ཁྱོད་ནི་གཡོ་ཡང་མཁྱེན་གྱུར་ལ། །གཞན་དག་ལ་ཡང་སླུ་མི་མཛད། །མགོན་ཁྱོད་རྫུ་འཕྲུལ་ཙམ་བླང་གི། །རྨད་བྱུང་གང་གིས་མཐོང་བ་དེས། །ཁྱབ་འཇུག་འཇིག་རྟེན་གསུམ་བརྒལ་བ། །འཕྱེ་བོ་མཆི་བ་བཞིན་དུ་མཐོང་། །གཞོན་ནུ་ཚངས་པར་སྤྱོད་པ་ན། །དྲུག་ལྡན་མ་དང་ལྷན་ཅིག་སྤྱོད། །ཁྱོད་ཀྱིས་འཁྲིག་པའི་སྦྱོར་བ་བདུན། །ཐལ་བ་བཞིན་དུ་བགྱིས་པར་གྱུར། །ཚངས་སོགས་འཇིག་རྟེན་འབྱིན་པ་པོ། །བདག་གཅིག་ཡིན་པར་སྨྲ་ཞེས་གྲག །དེ་ཉིད་གཟིགས་ཁྱོད་འཇིག་རྟེན་དང་། །དེ་ཡང་ལས་ལས་སྐྱེས་ཞེས་བསྟན། །བརྒྱ་བྱིན་གྱིས་ནི་བཤོལ་མེད་མ། །མཐོང་ནས་འདོད་པས་རྨོངས་ཞེས་གྲག །དཔའ་ཁྱོད་འདོད་པ་ཉིད་ཀྱིས་ནི། །མ་རྨོངས་སླད་དུ་བཙུན་མོ་བཏང་། །སྒྲ་གཅན་ལག་པས་ཟླ་བ་ཡང་། །དབང་མེད་པར་ནི་མིད་པ་ལགས། །མངའ་བརྙེས་ཁྱོད་ལ་སེམས་ཅན་གང་། །དབང་མེད་བགྱིད་པ་དེ་མ་མཆིས། །མི་དབང་དགའ་བྱེད་གོས་སྲེད་སོགས། །ནགས་ཚལ་ནས་ནི་ཕྱིར་ཡང་མཆིས། །བདེ་བར་གཤེགས་ཁྱོད་དབེན་པ་ཡི། '"
      ]
     },
     "execution_count": 101,
     "metadata": {},
     "output_type": "execute_result"
    }
   ],
   "source": [
    "text_base_text = get_base_text('1109', config.tengyur_opf, index_layer)\n",
    "text_base_text[:2000]"
   ]
  },
  {
   "cell_type": "markdown",
   "metadata": {},
   "source": [
    "### 4. Extract double-tsek from peyduma-tengyur text"
   ]
  },
  {
   "cell_type": "code",
   "execution_count": 102,
   "metadata": {},
   "outputs": [
    {
     "name": "stdout",
     "output_type": "stream",
     "text": [
      "[INFO] 1 - Processing I1PD958460041.jpg ...\n",
      "\t- no. of double tsek detected: 3\n",
      "[INFO] 2 - Processing I1PD958460042.jpg ...\n",
      "\t- no. of double tsek detected: 3\n",
      "[INFO] 3 - Processing I1PD958460043.jpg ...\n",
      "\t- no. of double tsek detected: 4\n",
      "[INFO] 4 - Processing I1PD958460044.jpg ...\n",
      "\t- no. of double tsek detected: 1\n",
      "[INFO] 5 - Processing I1PD958460045.jpg ...\n",
      "\t- no. of double tsek detected: 1\n",
      "[INFO] 6 - Processing I1PD958460046.jpg ...\n",
      "\t- double tsek not found !\n",
      "[INFO] 7 - Processing I1PD958460047.jpg ...\n",
      "\t- no. of double tsek detected: 3\n",
      "[INFO] 8 - Processing I1PD958460048.jpg ...\n",
      "\t- no. of double tsek detected: 1\n",
      "[INFO] 9 - Processing I1PD958460049.jpg ...\n",
      "\t- double tsek not found !\n",
      "[INFO] 10 - Processing I1PD958460050.jpg ...\n",
      "\t- double tsek not found !\n",
      "།ན་བ་མེད་པ་༄༅།།ཁྱད་པར་དུ་འཕགས་པའི་བསྟོད་པ།ད་དེ།ཐོབ་་་་་་་་་་་་་་་་༄༅།།རྒྱ་གར་སྐད་དུ།བི་ཤིཥྚ་$སྟ་བས།བོད་སྐད་དུ།།ཁྱད་པར་དུ་འཕགས་པའི་བསྟོད་པ།དེ་བཞིན་གཤེགས་པ་ཐམས་ཅད་ལ་ཕྱག་འཚལ་ལོ།།བདག་ནི་སྟོན་པ་གཞན་སྤངས་ནས།།བཅོམ་ལྡན་ཁྱོད་ལ་སྐྱབས་མཆིས་པ།།དེ་ཅིའི་སླད་དུ་ཞེ་ན་ཁྱོད།།སྐྱོན་མི་མངའ་ལ་ཡོན་ཏན་ལྡན།།གང་ཕྱིར་འཇིག་་་རྟེན་སྐྱོན་ལ་དགའ།།ཡོན་ཏན་འཛིན་$པར་ཞེན་པས་ན།།སྐྱོན་ཡང་ཡོན་ཏན་ལྟར་མཐོང་ནས།།གཞན་ལ་སྐྱབས་སུ་མཆིས་པར་གྱུར།།ཁྱབ་འཇུག་དབང་ཕྱུག་ལ་སོགས་པ།།དེ་ལ་སྐྱེ་བོ་དགའ་དད་པས།།དེ་ཡི་ཡོན་ཏན་གང་བསྒྲགས་པ།།ཁྱོད་ཀྱི་བསྟན་ལ་དེ་དག་སྐྱོན།།ལྷ་ཆེན་$ཁྲོས་པའི་མདའ་གཅིག་གིས།།གྲོང་ཁྱེར་སུམ་བརྩེགས་བསྲེགས་ཞེས་གདའི།།ཁྱོད་ཀྱི་ཡེ་ཤེས་མདའ་ཆེན་གྱིས།།ཁྲོ་བའི་སེམས་ཉིད་ངེས་པར་བསྲེགས།།ལྷ་ཆེན་གྱིས་ནི་འདོད་པ་དག།བསྲེགས་ཉེས་པས་ན་ཕྱིར་ཡང་དྲངས།།ཁྱོད་ཀྱི་ཡེ་ཤེས་ཞུགས་ཀྱིས་ནི།།འདོད་པ་རྩད་བཅད་བསྲེགས་ནས་བཏོན།།ལྷ་ཆེན་ཐིག་ལེའི་མཆོག་མ་ལ།།ཆགས་པ་སྐྱེས་པས་གདོང་$བཞི་བྱུང་ཚེ།།བདུད་ཀྱི་བུ་མོ་སྒེག་མོ་ཡིས།།ཁྱོད་ཀྱི་བ་སྤུའི་རྩེ་མ་གཡོས།།ལྷ་ཆེན་ཕྱེད་ནི་ཆུང་མ་བས།།ངུར་པ་ཡིས་ཀྱང་ཐུབ་མ་ལགས།།ཁྱོད་ནི་བདེ་བར་བགྱིད་པ་ཡི།།འདོད་པ་ཉིད་ཀྱིས་རྨོངས་མ་གྱུར།།འཁོར་ལོ་མདུང་ཐུང་ཅན་དག་གིས།།བདུད་སྟོབས་དེ་ལས་རྒྱལ་མི་ནུས།།ཁྱོད་ནི་འཁོར་ལོ་མདུང་མེད་པར།།བྱམས་པའི་མཚོན་གང་ལགས་པས་རྒྱལ།།རྒན་པོས་ཁྱབ་འཇུག་མདའ་ཡིས་བསྣུན།།ལྷ་ཆེན་མགྲིན་པ་སྔོ་གྱུར་པས།།ལྷ་འདི་གཉིས་ལ་གནོད་བགྱིད་མཆིས།།མགོན་ཁྱོད་གནོད་བགྱིད་བྲལ་བ་ལགས།།ཁྱབ་འཇུག་མི་ཐུང་གཟུགས་བསྒྱུར་ནས།།གཡོ་ཐབས་ཀྱིས་ནི་སྟོབས་ལྡན་བསླུས།།ཁྱོད་ནི་གཡོ་ཡང་མཁྱེན་གྱུར་ལ།།གཞན་དག་ལ་ཡང་སླུ་མི་མཛད།།མགོན་ཁྱོད་རྫུ་འཕྲུལ་$ཙམ་བླང་གིི།།རྨད་བྱུང་གང་གིས་མཐོང་བ་དེས།།ཁྱབ་འཇུག་འཇིག་རྟེན་གསུམ་བརྒལ་བ།།འཕྱེ་བོ་མཆི་བ་བཞིན་དུ་མཐོང་།།གཞོན་ནུ་ཚངས་པར་སྤྱོད་པ་ན།།དྲུག་ལྡན་མ་དང་ལྷན་ཅིག་སྤྱོད།།ཁྱོད་ཀྱིས་འཁྲིག་པའི་སྦྱོར་བ་བདུན།།ཐལ་བ་བཞིན་དུ་བགྱིས་པར་གྱུར།།ཚངས་སོགས་འཇིག་རྟེན་་་་འབྱིན་པ་པོ།།བདག་གཅིག་ཡིན་པར་སྨྲ་ཞེས་གྲག།དེ་ཉིད་གཟིགས་ཁྱོད་་་་འཇིག་རྟེན་དང་།།དེ་ཡང་ལས་ལས་སྐྱེས་ཞེས་བསྟན།།བརྒྱ་བྱིན་གྱིས་ནི་བཤོལ་མེད་མ།།མཐོང་ནས་འདོད་པས་རྨོངས་ཞེས་གྲག།དཔའ་ཁྱོད་འདོད་པ་ཉིད་ཀྱིས་ནི།།མ་རྨོངས་སླད་དུ་བཙུན་མོ་བཏང་།།སྒྲ་གཅན་ལག་པས་ཟླ་བ་ཡང་།།དབང་མེད་པར་ནི་མིད་པ་ལགས།།མངའ་བརྙེས་ཁྱོད་ལ་སེམས་ཅན་གང་།།དབང་མེད་བགྱིད་པ་དེ་མ་མཆིས།།མི་དབང་དགའ་བྱེད་གོས་སྲེད་སོགས།་།ནགས་ཚལ་ནས་ནི་ཕྱིར་ཡང་མཆིས།$།བདེ་བར་གཤེགས\n"
     ]
    }
   ],
   "source": [
    "config.debug = False\n",
    "base_text, ann_text = get_double_tsek_text(config.images_path/'I1PD95846')\n",
    "print(ann_text[:2000])"
   ]
  },
  {
   "cell_type": "markdown",
   "metadata": {},
   "source": [
    "### 5. Create dmp patch of double tsek"
   ]
  },
  {
   "cell_type": "code",
   "execution_count": 103,
   "metadata": {},
   "outputs": [],
   "source": [
    "dmp = dmp_module.diff_match_patch()"
   ]
  },
  {
   "cell_type": "code",
   "execution_count": 104,
   "metadata": {},
   "outputs": [],
   "source": [
    "patch = dmp.patch_make(base_text, ann_text)"
   ]
  },
  {
   "cell_type": "code",
   "execution_count": 105,
   "metadata": {},
   "outputs": [
    {
     "data": {
      "text/plain": [
       "[(0, 'བི་ཤིཥྚ་'), (1, '$'), (0, 'སྟ་བས།བོ')]"
      ]
     },
     "execution_count": 105,
     "metadata": {},
     "output_type": "execute_result"
    }
   ],
   "source": [
    "patch[0].diffs"
   ]
  },
  {
   "cell_type": "markdown",
   "metadata": {},
   "source": [
    "## 6. Apply the dmp patch to dergey-tengyur"
   ]
  },
  {
   "cell_type": "code",
   "execution_count": 107,
   "metadata": {},
   "outputs": [
    {
     "data": {
      "text/plain": [
       "'༄༅༅། །རྒྱ་གར་སྐད་དུ། བི་ཤིཥྚ་$སྟ་བཿ། བོད་སྐད་དུ། ཁྱད་པར་དུ་འཕགས་པའི་བསྟོད་པ། དེ་བཞིན་གཤེགས་པ་ཐམས་ཅད་ལ་ཕྱག་འཚལ་ལོ། །བདག་ནི་སྟོན་པ་གཞན་སྤངས་ནས། །བཅོམ་ལྡན་ཁྱོད་ལ་སྐྱབས་མཆིས་པ། །དེ་ཅིའི་སླད་དུ་ཞེ་ན་ཁྱོད། །སྐྱོན་མི་མངའ་ལ་ཡོན་ཏན་ལྡན། །གང་ཕྱིར་འཇིག་རྟེན་སྐྱོན་ལ་དགའ། །ཡོན་ཏན་འཛིན་$པར་ཞེན་པས་ན། །སྐྱོན་ཡང་ཡོན་ཏན་ལྟར་མཐོང་ནས། །གཞན་ལ་སྐྱབས་སུ་མཆིས་པར་གྱུར། །ཁྱབ་འཇུག་དབང་ཕྱུག་ལ་སོགས་པ། །དེ་ལ་སྐྱེ་བོ་དགའ་དད་པས། །དེ་ཡི་ཡོན་ཏན་གང་བསྒྲགས་པ། །ཁྱོད་ཀྱི་བསྟན་ལ་དེ་དག་སྐྱོན། །ལྷ་ཆེན་$ཁྲོས་པའི་མདའ་གཅིག་གིས། །གྲོང་ཁྱེར་སུམ་བརྩེགས་བསྲེགས་ཞེས་གདའ། །ཁྱོད་ཀྱི་ཡེ་ཤེས་མདའ་ཆེན་གྱིས། །ཁྲོ་བའི་སེམས་ཉིད་ངེས་པར་བསྲེགས། །ལྷ་ཆེན་གྱིས་ནི་འདོད་པ་དག །བསྲེགས་ཉེས་པས་ན་ཕྱིར་ཡང་དྲངས། །ཁྱོད་ཀྱི་ཡེ་ཤེས་ཞུགས་ཀྱིས་ནི། །འདོད་པ་རྩད་བཅད་བསྲེགས་ནས་བཏོན། །ལྷ་ཆེན་ཐིག་ལེའི་མཆོག་མ་ལ། །ཆགས་པ་སྐྱེས་པས་གདོང་$བཞི་བྱུང་། །བདུད་ཀྱི་བུ་མོ་སྒེག་མོ་ཡིས། །ཁྱོད་ཀྱི་བ་སྤུའི་རྩེ་མ་གཡོས། །ལྷ་ཆེན་ཕྱེད་ནི་ཆུང་མ་བས། །ངུར་པ་ཡིས་ཀྱང་ཐུབ་མ་ལགས། །ཁྱོད་ནི་བདེ་བར་བགྱིད་པ་ཡི། །འདོད་པ་ཉིད་ཀྱིས་རྨོངས་མ་གྱུར། །འཁོར་ལོ་མདུང་ཐུང་ཅན་དག་གིས། །བདུད་སྟོབས་དེ་ལས་རྒྱལ་མི་ནུས། །ཁྱོད་ནི་འཁོར་ལོ་མདུང་མེད་པར། །བྱམས་པའི་མཚོན་གང་ལགས་པས་རྒྱལ། །རྒན་པོས་ཁྱབ་འཇུག་མདའ་ཡིས་བསྣུན། །ལྷ་ཆེན་མགྲིན་པ་སྔོ་གྱུར་པས། །ལྷ་འདི་གཉིས་ལ་གནོད་བགྱིད་མཆིས། །མགོན་ཁྱོད་གནོད་བགྱིད་བྲལ་བ་ལགས། །ཁྱབ་འཇུག་མི་ཐུང་གཟུགས་བསྒྱུར་ནས། །གཡོ་ཐབས་ཀྱིས་ནི་སྟོབས་ལྡན་བསླུས། །ཁྱོད་ནི་གཡོ་ཡང་མཁྱེན་གྱུར་ལ། །གཞན་དག་ལ་ཡང་སླུ་མི་མཛད། །མགོན་ཁྱོད་རྫུ་འཕྲུལ་$ཙམ་བླང་གི། །རྨད་བྱུང་གང་གིས་མཐོང་བ་དེས། །ཁྱབ་འཇུག་འཇིག་རྟེན་གསུམ་བརྒལ་བ། །འཕྱེ་བོ་མཆི་བ་བཞིན་དུ་མཐོང་། །གཞོན་ནུ་ཚངས་པར་སྤྱོད་པ་ན། །དྲུག་ལྡན་མ་དང་ལྷན་ཅིག་སྤྱོད། །ཁྱོད་ཀྱིས་འཁྲིག་པའི་སྦྱོར་བ་བདུན། །ཐལ་བ་བཞིན་དུ་བགྱིས་པར་གྱུར། །ཚངས་སོགས་འཇིག་རྟེན་འབྱིན་པ་པོ། །བདག་གཅིག་ཡིན་པར་སྨྲ་ཞེས་གྲག །དེ་ཉིད་གཟིགས་ཁྱོད་འཇིག་རྟེན་དང་། །དེ་ཡང་ལས་ལས་སྐྱེས་ཞེས་བསྟན། །བརྒྱ་བྱིན་གྱིས་ནི་བཤོལ་མེད་མ། །མཐོང་ནས་འདོད་པས་རྨོངས་ཞེས་གྲག །དཔའ་ཁྱོད་འདོད་པ་ཉིད་ཀྱིས་ནི། །མ་རྨོངས་སླད་དུ་བཙུན་མོ་བཏང་། །སྒྲ་གཅན་ལག་པས་ཟླ་བ་ཡང་། །དབང་མེད་པར་ནི་མིད་པ་ལགས། །མངའ་བརྙེས་ཁྱོད་ལ་སེམས་ཅན་གང་། །དབང་མེད་བགྱིད་པ་དེ་མ་མཆིས། །མི་དབང་དགའ་བྱེད་གོས་སྲེད་སོགས། །ནགས་ཚལ་ནས་ནི་ཕྱིར་ཡང་མཆིས། $།བདེ་བར་གཤེགས་ཁྱོད་དབེན་པ་ཡི། །བདུད་རྩིས་ངོམས་ལས་ཕྱིར་མི་བྱོན། །མཆོད་སྦྱིན་ལ་ནི་ཕྱུགས་འགུམས་པར། །དྲང་སྲོང་རྣམས་ནི་སྨྲ་ཞེས་གྲག །སྡིག་མེད་ཁྱོད་ཀྱིས་གྲོག་མ་ལའང་། །གནོད་པ་བགྱིད་པར་རྗེས་མ་གནང་། །གཞན་དག་རང་དོན་མཆོད་སྦྱིན་ལ། །གཞན་$གྱི་སྲོག་གི་སྦྱིན་སྲེག་བྱེད། །གཞན་གྱི་དོན་དུ་ཁྱོད་གཅིག་པུ། །རང་གི་སྲོག་གིས་སྦྱིན་སྲེག་མཛད། །དྲང་སྲོང་དམོད་མེ་མི་བཟད་པས། །སྐྱེ་བོ་མང་པོ་$བསྲེགས་པར་འགྱུར། །ཁྱོད་ཀྱིས་ཡེ་ཤེས་མེ་ཡིས་ནི། །སྐྱེ་བོ་རྣམས་ཀྱི་སྐྱེ་རྒྱུ་བསྲེགས། །$རྒྱས་པ་དྲན་པའི་མཐུ་ཆུང་བས། །མང་པོ་བགྱིས་པའི་ཚིག་དག་ནི། །ལྟག་འོག་འགལ་བར་གྱུར་ཅེས་ཐོས། །ཐུབ་པ་ཁྱོད་ཀྱི་ཀུན་ཀྱང་མིན། །དྲང་སྲོང་དམོད་པ་གྲུབ་པ་ལས། །དཀའ་ཐུབ་གྲུབ་པར་རྗེས་སུ་དཔག །མགོན་ཁྱོད་ཐུགས་རྗེ་གྲུབ་པ་ལས། །དཀའ་ཐུབ་གྲུབ་པར་རྗེས་སུ་དཔག །ལྷ་ཆེན་འདོད་པ་ཅན་གྱི་མཚན། །དྲང་སྲོང་རྣམས་ཀྱི་དམོད་པས་ལྷུང་། །ཁྱོད་ཀྱིས་ཕུང་ཁྲོལ་མཐའ་དག་གི། །རྩ་བ་འདོད་པ་ཉིད་ལྷུང་བགྱིས། །གླིང་ལས་སྐྱེས་སོགས་ཕལ་ཆེར་ནི། །གཞན་གྱིས་གང་སྨྲས་སྨྲ་བར་བགྱིད། །ཁྱོད་ཀྱིས་ཐུན་མོང་མ་ཡིན་ཆོས། །རང་གིས་ཐུགས་སུ་ཆུད་ནས་བསྟན། །མུ་སྟེགས་ཅན་གྱི་རིག་བྱེད་ཚིག །དབེན་པ་ཁོ་ནར་སྨྲ་བར་བགྱིད། །ཁྱོད་ཀྱིས་བསྒྲགས་ནས་སེང་གེ་ཡི། །སྒྲ་ཡིས་ཆོས་དག་སྟོན་པར་མཛད། །གྲངས་ཅན་བྷ་$ར་དྭ་ཛ་ནི། །དེ་ཉིད་མཐོང་ཡང་དཔྱིད་ལྡན་ལ། །ཡོངས་སུ་ཆགས་ཀྱི་གཙོ་ཁྱོད་ཀྱི། །སློབ་མའང་བུད་མེད་ཉིད་མ་ཆགས། །འུག་པ་པས་ནི་དམན་པ་ལས། །ཁྱད་པར་ཅན་ལ་སྦྱིན་ཞེས་བསྟན། །མགོན་པོ་ཁྱོད་ནི་ཐུགས་རྗེ་ཡིས། །ཁྱི་ལའང་སྦྱིན་པར་བྱ་ཞེས་གསུངས། །ལུས་ཀྱི་དཀའ་ཐུབ་བགྱིས་པ་ཡིས། །མདུད་པ་འཇིག་པར་གཅེར་བུས་འཚལ། །ཁྱོད་ནི་ཐུགས་ཀྱི་དཀའ་ཐུབ་ཀྱིས། །མདུད་པ་འཇིག་པར་བཞེད་པ་ལགས། །རྟོག་གེ་པ་དག་དངོས་པོ་རྣམས། །ལྟོས་པ་མེད་པར་གྲུབ་པར་འཚལ། །ཚིག་དབང་ཁྱོད་ཀྱིས་ཅུང་ཟད་ཀྱང་། །མི་ལྟོས་མེད་ཅེས་ལེགས་པར་གསུངས། །ནེ་ཙོས་ཉི་མ་བརྟོལ་ནས་ནི། །ཐར་པ་མཆིས་པར་བཤད་ཅེས་གྲག །ཁྱོད་ནི་མྱ་ངན་འདས་བརྙེས་ལ། །གང་དུ་ཡང་ནི་གཤེགས་མ་མཆིས། །ཐར་པ་རྒྱུད་གཞན་སྐྱེད་པ་དང་། །ནེ་ཙོས་ལམ་གཞན་སོང་བར་གྱུར། །ཁྱོད་ཉིད་ལམ་གང་ནས་གཤེགས་པ། །དེ་ཉིད་ནས་ནི་སློབ་མའང་མཆི། །ཁྱབ་འཇུག་དག་གིས་བུད་མེད་ནི། །སྟོང་ཕྲག་དྲུག་ཅུ་ཡོངས་བཟུང་གྱུར། །སྟོན་པ་འཇིག་རྟེན་འདས་ཁྱོད་ལ། །བདག་གི་མེད་ཅིང་ཡོངས་འཛིན་མེད། །ཀ་ཤི་མཛེས་དགའ་མོ་ལ་ནི། །རྒྱས་པ་ཡོངས་ཆགས་རྣམ་པར་འགྱུར། །ཁྱོད་ཁབ་བཞུགས་ནའང་ཕུང་ཁྲོལ་བའི། །གདོན་གྱིས་དབང་པོ་རྨོངས་མ་གྱུར། །རྒྱས་པ་འདོད་གདུངས་གཡེན་སྤྱོ་བས། །བུད་མེད་ཀྱི་ནི་རྡོག་པས་བསྣུན། །ཁྱོད་ནི་ཁྱིམ་པར་བཞུགས་ན་ཡང་། །ཕྱིར་ཞིང་འཁྲུག་པར་འགྱུར་བ་མེད། །དགའ་བྱེད་ཆུང་མའི་དོན་གྱི་ཕྱིར། །རྒྱ་མཚོའི་ཕ་རོལ་སོན་ཅེས་གྲག །ཁྱོད་ཀྱིས་བུད་མེད་སྟོང་ཕྲག་ནི། །བརྒྱད་ཅུ་སྤངས་ནས་ནགས་སུ་གཤེགས། །རྣ་ཅན་འཐབ་དཀའ་ལ་སོགས་ལ། །ཁྱབ་འཇུག་གིས་ནི་གནོད་པ་བརྩམས། །སེམས་ཅན་རྣམས་ལ་$ཕན་བཞེད་པ། །ཁྱོད་ཀྱིས་སྲོག་ཀྱང་བཏང་བ་མཛད། །ཁྱབ་འཇུག་གིས་ནི་སྒྱུ་བྱས་ནས། །གོམ་གསུམ་གྱིས་ཕྲོགས་གང་ཡིན་པའི། །ས་དེ་ངེས་པར་ཐར་བཞེད་པ། །ཁྱོད་ཀྱིས་རྩ་བཞིན་བཏང་བར་གྱུར། །དགའ་བྱེད་སྲོག་གཅོད་བྱེད་པའི་མདས། །འཇིག་རྟེན་རྒྱལ་རིགས་མེད་བྱས་ནས། །གྲགས་པ་ཐོབ་པ་གང་ཡིན་དེ། །ཁྱོད་ཀྱི་བསྟན་ལ་གྲགས་པ་མིན། །སྒྲ་ངན་དང་ནི་སྐྱ་བསེང་དག །གང་གི་ཕྱིར་ནི་གཡུལ་བཀྱེ་བའི། །དཔལ་དེ་ཁྱོད་ཀྱིས་འཁྲི་ཤིང་ནི། །གདུག་པ་བཞིན་དུ་སྤངས་ནས་གཤེགས། །ཁྱོད་ཀྱི་བསྟན་པ་རྙེད་པ་ན། །ཐང་ཤིང་ནགས་ན་ལྷ་ཆེན་པོ། །རྣལ་འབྱོར་དབང་ཕྱུག་སྤྱོད་པ་པོ། །དེ་ནི་མི་ཤེས་སྤྱོད་པར་བས། །དབང་པོ་གཤོལ་མེད་བྱི་བོ་ཞེས། །བྲམ་ཟེ་ད་དུང་བར་དུ་སྒྲོགས། །ཁྱོད་ཀྱིས་འབྲས་བུ་མཆོག་བརྙེས་པའི། །གྲགས་པ་བརྒྱ་བྱིན་སྒྲོགས་པར་གྱུར། །ཁྱབ་འཇུག་དག་ནི་ནག་བཀྲ་བོས། །བྲེད་འཐོམས་གྱུར་ནས་ཀུན་གཏོང་གི། །ཁྲི་ཡི་འོག་ཏུ་ཞུགས་པར་གྱུར། །གཙོ་ཁྱོད་ཀུན་དུ་བསྙེངས་མི་མངའ། །སྐྱེ་དགུའི་བདག་པོ་རང་ཉིད་ཀྱི། །བུ་མོ་དང་ནི་འཁྲིག་ཅེས་ཐོས། །ཐུབ་པ་ཁྱོད་ཀྱི་སློབ་མ་ཡང་། །ཚངས་པར་སྤྱོད་པ་སྐྱོན་མ་མཆིས། །བྲམ་ཟེ་རྣམས་ནི་དགེ་སྡིག་དག །སྦྱིན་པ་ལེན་ཅིང་འཕོ་བར་སྨྲ། །ཁྱོད་ཀྱིས་བྱས་$པ་ཆུད་མི་ཟ། །མ་བྱས་པ་དང་ཕྲད་མེད་གསུངས། །སེར་སྐྱས་བདག་གི་མཚན་ཉིད་ནི། །ཤེས་དང་ལྡན་པ་རབ་ཏུ་བརྟགས། །ཁྱོད་ཀྱིས་དེ་ལྟར་ཡིན་ན་བདག །མི་རྟག་ཉིད་དང་ལྡན་ཞེས་བསྟན། །གཟེགས་ཟན་གྱིས་ནི་ཤེས་ལས་བདག །གཞན་དང་ཁྱད་པར་ཡོངས་སུ་བརྗོད། །ཁྱོད་ཀྱིས་དེ་ནི་ཤེས་མེད་ན། །ཤིང་དང་འདྲ་བར་ཐལ་འགྱུར་གསུངས། །གཅེར་བུས་ལུས་ཀྱི་ཚད་བཞིན་དུ། །སྲོག་ནི་ཞུམ་དང་རྒྱས་པར་སྨྲ། །ཁྱོད་ཀྱིས་དེ་ནི་ཕྱོགས་གཅིག་ན། །རྣམ་པར་འཇིག་པར་འགྱུར་ཞེས་གསུངས། །བྲམ་ཟེས་འགྲོ་བ་རྣམས་ཀྱི་རྒྱུ། །སྐྱེས་བུ་རྟག་པ་ཡིན་ཞེས་བསྟན། །ཁྱོད་ཀྱིས་རྟག་པ་ཞེས་བྱ་བའི། །རྒྱུ་ནི་ཅི་ཡང་མེད་ཅེས་གསུངས། །བདག་ཉིད་ཆེན་པོ་དུག་ཅན་པའི། །སྲས་པོ་སྟོང་ཕྲག་དྲུག་ཅུ་དག །སེར་སྐྱས་བལྟས་པ་ཙམ་གྱིས་བསྲེགས། །དེ་ལའང་ཁྱོད་ནི་ཐུགས་རྗེ་མཛད། །སེར་སྐྱ་དེ་ཉིད་རིག་པས་ནི། །གཙོ་ལས་འགྲོ་བ་སྐྱེ་བར་བཤད། །ཁྱོད་ཀྱི་འགྲོ་བའི་སྐྱེ་བ་ནི། །ཉོན་མོངས་ལས་ལས་བྱུང་བར་བསྒྲགས། །སེར་སྐྱ་ལ་སོགས་ཐར་པ་ཡི། །བདག་ནི་སྲིད་པའི་རྒྱུ་ཞེས་ཟེར། །ཁྱོད་ནི་ཞི་བར་གཤེགས་གྱུར་ནས། །ཞུགས་གུམ་ལྟ་བུར་བགྲང་དུ་མེད། །མུ་སྟེགས་བྱེད་པ་ཁ་ཅིག་ནི། །ཐར་པ་འགྲོ་དང་ལྡན་ཞེས་སྨྲ། །གང་ལ་འགྲོ་ཡོད་དེ་འཁོར་བ། །ཁྱོད་ཀྱིས་ཐུགས་སུ་ཆུད་ནས་བསྟན། །གཅེར་བུས་ཀུན་དགའ་ར་བ་སོགས། །རྩིག་པ་སྡིག་པའི་རྒྱུ་ཞེས་ཟེར། །ཐམས་ཅད་མཁྱེན་པ་ཁྱོད་ཉིད་ནི། །དེ་ཉིད་བསོད་ནམས་རྒྱུ་ཞེས་གསུངས། །ལུས་ལས་ལུས་གཞན་དག་ཏུ་ནི། །ཕྲ་བའི་སྲོག་ནི་འཕོ་ཞེས་གྲག །ཁྱོད་ཀྱི་ལུས་ལས་གཞན་གྱུར་པའི། །སྲོག་ནི་ཡོད་པ་མིན་ཞེས་གསུངས། །ཁྲོས་པས་གཡུལ་ངོར་བསད་ན་ནི། །བདེ་འགྲོར་འགྱུར་ཞེས་རྒྱས་པ་ཟེར། །མགོན་པོ་ཁྱོད་ཀྱིས་གནས་སྐབས་དེའི། །སེམས་ནི་ངན་འགྲོ་ཡིན་ཞེས་གསུངས། །སྐྱ་བསེང་བུ་ནི་བརྗོད་བྱས་ན། །བསོད་ནམས་འགྱུར་ཞེས་སོ་སོར་སྨྲ། །གང་ཞིག་བགྲོད་མིན་བགྲོད་བྱེད་པ། །དེ་དག་ཁྱོད་ཀྱི་བསྟན་ལ་སྨད། །སྐེམ་བྱེད་དབང་པོ་ཉེ་དབང་པོ། །དྲག་པོ་ལ་སོགས་འཇིགས་པ་དང་། །བསྡིགས་ཕྱིར་མཚོན་ཆ་རྟག་ཏུ་ཐོགས། །ཁྱོད་བསྙེངས་བྲལ་ཞིང་བསྡིགས་མི་མཛད། །ཁྱོད་ནི་སུས་ཀྱང་མི་བསྙེངས་ལ། །སུ་ལའང་བསྡིགས་པར་མི་མཛད་པས། །ཁྱོད་ཉིད་གཅིག་པུ་མཚོན་མི་བསྣམས། །དེས་ན་འགྲོ་བ་རྣམས་ལས་འཕགས། །སྨྲ་པོ་ཉོན་མོངས་བཅས་པའི་ཚིག །རིག་བྱེད་ལ་སོགས་ཚིག་དག་ནི། །ཕལ་ཆེར་ལྟག་འོག་འགལ་བ་ལགས། །ཁྱོད་ཀྱི་ཐམས་ཅད་མཁྱེན་པའི་གསུང་། །གཞན་གྱི་བསྟན་བཅོས་གཞན་དག་ནི། །ཕལ་ཆེར་སྔ་ཕྱི་འགལ་བ་ལས། །ཁྱོད་ཉིད་ཀྱི་ནི་གཞུང་ལུགས་དག །ཐོག་མ་བར་མཐར་སྐྱོན་མ་མཆིས། །ཆོས་འདོད་པ་དག་དམངས་རིགས་ལ། །བློ་གྲོས་སྦྱིན་པར་བྱ་མིན་ཟེར། །ཁྱོད་ནི་གདོལ་པ་རྣམས་ལ་ཡང་། །ཐུགས་རྗེས་དམ་ཆོས་སྟོན་པར་མཛད། །ལྗོན་ཤིང་བཟང་པོ་རྣམས་སྤངས་ནས། །ངན་པ་ལ་ནི་སུ་ཞིག་བརྟེན། །འདོད་ཆགས་བྲལ་བརྙེས་ཁྱོད་བཞུགས་ན། །མཁས་པ་སུ་ཞིག་སྟོན་གཞན་འདུད། །སེར་སྐྱས་ཡུལ་རྣམས་ལ་སྤྱད་བཞིན། །ཡེ་ཤེས་འགྱུར་མཆི་སྡིག་བྲལ་བ། །ཁྱོད་ཀྱིས་ཀུན་ནས་ཉོན་མོངས་ལ། །ཐར་པ་ག་ལ་ཡོད་ཅེས་གསུངས། །བསོད་ནམས་བྱས་པའི་ཚོགས་དག་ནི། །སེམས་ཅན་རྣམས་ལ་ཡོངས་བསྔོ་བར། །བཅོམ་ལྡན་ཁྱོད་ཀྱིས་གང་གསུངས་པ། །དེ་གཞན་བསྟན་བཅོས་ལས་མ་བཤད། །ལྷ་རྟེན་དང་ནི་མཆོད་སྦྱིན་ལ། །སེམས་ཅན་གསོད་པར་བྱེད་པ་གང་། །འཇིག་རྟེན་པ་ནི་ཆོས་སུ་འཚལ། །ཁྱོད་ཀྱི་བསྟན་ལ་དེ་ད$ག་སྨད། །གང་ཞིག་སྲོག་ཆགས་ལ་རྟག་གནོད། །དེ་ལ་ཆོས་ཉིད་ག་ལ་ཡོད། །གཙོ་བོ་ཁྱོད་ཀྱིས་རང་ཉིད་ཀྱི། །སྲོག་གིས་སེམས་ཅན་ལེགས་པར་བསྲུངས། །ཤཱཀྱའི་རྒྱལ་རིགས་འཁྲུངས་ཁྱོད་ཀྱིས། །གང་ཞིག་བདེན་དང་མི་སླུ་དང་། །ཚངས་པར་སྤྱོད་དང་དུལ་བ་དང་། །བརྩེར་ལྡན་དམ་ཆོས་ལགས་པར་དགོངས། །རིག་བྱེད་མཐའ་ལ་འབྱམས་པས་ཀྱང་། །གཡུལ་ངོར་དགྲ་མངོན་འོངས་བསད་ཅེས། །འཇིག་རྟེན་སྨྲ་ཡི་ཁྱོད་ཀྱིས་ནི། །དགྲ་ལའང་སྙིང་རྗེ་བྱ་ཞེས་གསུངས། །གཞོན་ནུས་རང་གི་ཞང་པོ་ལ། །མདུང་གིས་བསྣུན་ཞེས་བཀའ་མཆིད་གདའ། །དཔའ་$བོ་ཁྱོད་ཀྱིས་ཉོན་མོངས་པའི། །དྲ་བ་ཤེས་རབ་མཚོན་གྱིས་དྲལ། །ཁྱབ་འཇུག་གིས་ནི་རང་ཉིད་ཀྱི། །སླས་ཀྱང་ཡོངས་སུ་བསྐྱབ་མ་ནུས། །གཙོ་བོ་$ཁྱོད་ཀྱིས་སེམས་ཅན་ཀུན། །བསྐྱབ་པའི་སླད་དུ་བརྩོན་པ་ལགས། །རྒན་པོས་སྦྱར་བའི་འཇིགས་ཤེས་ནས། །ཁྱབ་འཇུག་གིས་ནི་བཅོམ་བརླག་བཏང་། །ཐུབ་པ་ཁྱོད་ལ་བསྙིངས་བགྱིད་གང་། །སེམས་ཅན་དེ་ནི་འགའ་མ་མཆིས། །ཁྱབ་འཇུག་གིས་ནི་གཉེན་འདུན་དག །ལེ་ལན་གྱིས་ནི་གཏུགས་པར་གྱུར། །ཁྱོད་ཀྱི་གཉེན་འདུན་ཐམས་ཅད་ནི། །འཁོར་བ་ལས་ནི་རྣམ་པར་སྒྲོལ། །མུ་སྟེགས་ཅན་གྱི་གཞུང་ལུགས་ལ། །ཇི་ལྟ་ཇི་ལྟར་རྣམ་བསམས་པ། །དེ་ལྟ་དེ་ལྟར་མགོན་ཁྱོད་ལ། །བདག་གི་སེམས་ནི་དད་པར་གྱུར། །དེ་ལྟར་ཐམས་ཅད་མཁྱེན་མིན་པའི། །གྲུབ་མཐའི་སྐྱོན་གྱི་བརླག་སེམས་ལྡན། །བསམ་བརླག་རྣམས་ཀྱིས་སྐྱོན་མེད་པའི། །སྟོན་པ་ཁྱོད་ཀྱང་མི་མཐོང་ངོ་། །འཇིག་རྟེན་ལྷ་དང་བྲམ་ཟེ་དང་། །རིག་བྱེད་ཤཱཀྱ་འདི་དག་ཅེས། །སྡང་བར་སྨྲ་བ་རང་སྐྱོན་ཉིད། །ཅི་ཕྱིར་སེམས་པར་བྱེད་ཅེ་ན། །གང་སླད་ཁྱོད་ཀྱི་བསྟན་པ་ནི། །བདེ་བས་བདེ་ཉིད་ཐོབ་བགྱིད་པ། །དེ་སླད་སྨྲ་བའི་སེང་ཁྱོད་ཀྱི། །གཞུང་ལུགས་ལ་ནི་འགྲོ་འདི་དགའ། །ཁྱོད་ཀྱི་ཡོན་ཏན་ཡང་དག་པ། །རྣམ་པ་འདི་ལྟར་རབ་བརྗོད་པས། །བདག་གིས་བསོད་ནམས་གང་ཐོབ་དེས། །འགྲོ་བའི་འཇིག་རྟེན་ཁྱོད་འདྲར་ཤོག །མགོན་པོ་ཁྱད་པར་འཕགས་བསྟོད་པ། $།བཏོན་པས་བདག་གིས་དགེ་བསགས་པ། །གང་ཡིན་དེས་ནི་འགྲོ་བ་ཀུན། །བྱང་ཆུབ་ལམ་ལ་གཞོལ་གྱུར་ཅིག །ཁྱད་པར་དུ་འཕགས་པའི་བསྟོད་པ་སློབ་དཔོན་མཐོ་བཙུན་གྲུབ་རྗེས་མཛད་པ་རྫོགས་སོ།། །།རྒྱ་གར་གྱི་མཁན་པོ་སརྦ་ཛྙཱ་དེ་ཝ་དང་། ཞུ་ཆེན་གྱི་ལོ་ཙཱ་བ་བན་དེ་རིན་ཆེན་མཆོག་གིས་བསྒྱུར། སླད་ཀྱིས་བན་དེ་དཔལ་བརྩེགས་རཀྵི་ཏས་བསྒྱུར་ཅིང་ཞུས་ཏེ་གཏན་ལ་ཕབ་པའོ།། །།'"
      ]
     },
     "execution_count": 107,
     "metadata": {},
     "output_type": "execute_result"
    }
   ],
   "source": [
    "ann_base = dmp.patch_apply(patch, text_base_text)[0]; ann_base"
   ]
  },
  {
   "cell_type": "markdown",
   "metadata": {},
   "source": [
    "### 7. Parse the dobule-tsek from dergey-tengyur"
   ]
  },
  {
   "cell_type": "code",
   "execution_count": 119,
   "metadata": {},
   "outputs": [],
   "source": [
    "def parse_double_tsek(text):\n",
    "    return [\n",
    "        m.span(0)[0] \n",
    "        for m in re.finditer(r'\\$', ann_base)\n",
    "    ], text"
   ]
  },
  {
   "cell_type": "code",
   "execution_count": 120,
   "metadata": {},
   "outputs": [
    {
     "data": {
      "text/plain": [
       "([29,\n",
       "  273,\n",
       "  466,\n",
       "  760,\n",
       "  1334,\n",
       "  1975,\n",
       "  2199,\n",
       "  2335,\n",
       "  2419,\n",
       "  3025,\n",
       "  4268,\n",
       "  5217,\n",
       "  7737,\n",
       "  8177,\n",
       "  8300,\n",
       "  9217],\n",
       " '༄༅༅། །རྒྱ་གར་སྐད་དུ། བི་ཤིཥྚ་$སྟ་བཿ། བོད་སྐད་དུ། ཁྱད་པར་དུ་འཕགས་པའི་བསྟོད་པ། དེ་བཞིན་གཤེགས་པ་ཐམས་ཅད་ལ་ཕྱག་འཚལ་ལོ། །བདག་ནི་སྟོན་པ་གཞན་སྤངས་ནས། །བཅོམ་ལྡན་ཁྱོད་ལ་སྐྱབས་མཆིས་པ། །དེ་ཅིའི་སླད་དུ་ཞེ་ན་ཁྱོད། །སྐྱོན་མི་མངའ་ལ་ཡོན་ཏན་ལྡན། །གང་ཕྱིར་འཇིག་རྟེན་སྐྱོན་ལ་དགའ། །ཡོན་ཏན་འཛིན་$པར་ཞེན་པས་ན། །སྐྱོན་ཡང་ཡོན་ཏན་ལྟར་མཐོང་ནས། །གཞན་ལ་སྐྱབས་སུ་མཆིས་པར་གྱུར། །ཁྱབ་འཇུག་དབང་ཕྱུག་ལ་སོགས་པ། །དེ་ལ་སྐྱེ་བོ་དགའ་དད་པས། །དེ་ཡི་ཡོན་ཏན་གང་བསྒྲགས་པ། །ཁྱོད་ཀྱི་བསྟན་ལ་དེ་དག་སྐྱོན། །ལྷ་ཆེན་$ཁྲོས་པའི་མདའ་གཅིག་གིས། །གྲོང་ཁྱེར་སུམ་བརྩེགས་བསྲེགས་ཞེས་གདའ། །ཁྱོད་ཀྱི་ཡེ་ཤེས་མདའ་ཆེན་གྱིས། །ཁྲོ་བའི་སེམས་ཉིད་ངེས་པར་བསྲེགས། །ལྷ་ཆེན་གྱིས་ནི་འདོད་པ་དག །བསྲེགས་ཉེས་པས་ན་ཕྱིར་ཡང་དྲངས། །ཁྱོད་ཀྱི་ཡེ་ཤེས་ཞུགས་ཀྱིས་ནི། །འདོད་པ་རྩད་བཅད་བསྲེགས་ནས་བཏོན། །ལྷ་ཆེན་ཐིག་ལེའི་མཆོག་མ་ལ། །ཆགས་པ་སྐྱེས་པས་གདོང་$བཞི་བྱུང་། །བདུད་ཀྱི་བུ་མོ་སྒེག་མོ་ཡིས། །ཁྱོད་ཀྱི་བ་སྤུའི་རྩེ་མ་གཡོས། །ལྷ་ཆེན་ཕྱེད་ནི་ཆུང་མ་བས། །ངུར་པ་ཡིས་ཀྱང་ཐུབ་མ་ལགས། །ཁྱོད་ནི་བདེ་བར་བགྱིད་པ་ཡི། །འདོད་པ་ཉིད་ཀྱིས་རྨོངས་མ་གྱུར། །འཁོར་ལོ་མདུང་ཐུང་ཅན་དག་གིས། །བདུད་སྟོབས་དེ་ལས་རྒྱལ་མི་ནུས། །ཁྱོད་ནི་འཁོར་ལོ་མདུང་མེད་པར། །བྱམས་པའི་མཚོན་གང་ལགས་པས་རྒྱལ། །རྒན་པོས་ཁྱབ་འཇུག་མདའ་ཡིས་བསྣུན། །ལྷ་ཆེན་མགྲིན་པ་སྔོ་གྱུར་པས། །ལྷ་འདི་གཉིས་ལ་གནོད་བགྱིད་མཆིས། །མགོན་ཁྱོད་གནོད་བགྱིད་བྲལ་བ་ལགས། །ཁྱབ་འཇུག་མི་ཐུང་གཟུགས་བསྒྱུར་ནས། །གཡོ་ཐབས་ཀྱིས་ནི་སྟོབས་ལྡན་བསླུས། །ཁྱོད་ནི་གཡོ་ཡང་མཁྱེན་གྱུར་ལ། །གཞན་དག་ལ་ཡང་སླུ་མི་མཛད། །མགོན་ཁྱོད་རྫུ་འཕྲུལ་$ཙམ་བླང་གི། །རྨད་བྱུང་གང་གིས་མཐོང་བ་དེས། །ཁྱབ་འཇུག་འཇིག་རྟེན་གསུམ་བརྒལ་བ། །འཕྱེ་བོ་མཆི་བ་བཞིན་དུ་མཐོང་། །གཞོན་ནུ་ཚངས་པར་སྤྱོད་པ་ན། །དྲུག་ལྡན་མ་དང་ལྷན་ཅིག་སྤྱོད། །ཁྱོད་ཀྱིས་འཁྲིག་པའི་སྦྱོར་བ་བདུན། །ཐལ་བ་བཞིན་དུ་བགྱིས་པར་གྱུར། །ཚངས་སོགས་འཇིག་རྟེན་འབྱིན་པ་པོ། །བདག་གཅིག་ཡིན་པར་སྨྲ་ཞེས་གྲག །དེ་ཉིད་གཟིགས་ཁྱོད་འཇིག་རྟེན་དང་། །དེ་ཡང་ལས་ལས་སྐྱེས་ཞེས་བསྟན། །བརྒྱ་བྱིན་གྱིས་ནི་བཤོལ་མེད་མ། །མཐོང་ནས་འདོད་པས་རྨོངས་ཞེས་གྲག །དཔའ་ཁྱོད་འདོད་པ་ཉིད་ཀྱིས་ནི། །མ་རྨོངས་སླད་དུ་བཙུན་མོ་བཏང་། །སྒྲ་གཅན་ལག་པས་ཟླ་བ་ཡང་། །དབང་མེད་པར་ནི་མིད་པ་ལགས། །མངའ་བརྙེས་ཁྱོད་ལ་སེམས་ཅན་གང་། །དབང་མེད་བགྱིད་པ་དེ་མ་མཆིས། །མི་དབང་དགའ་བྱེད་གོས་སྲེད་སོགས། །ནགས་ཚལ་ནས་ནི་ཕྱིར་ཡང་མཆིས། $།བདེ་བར་གཤེགས་ཁྱོད་དབེན་པ་ཡི། །བདུད་རྩིས་ངོམས་ལས་ཕྱིར་མི་བྱོན། །མཆོད་སྦྱིན་ལ་ནི་ཕྱུགས་འགུམས་པར། །དྲང་སྲོང་རྣམས་ནི་སྨྲ་ཞེས་གྲག །སྡིག་མེད་ཁྱོད་ཀྱིས་གྲོག་མ་ལའང་། །གནོད་པ་བགྱིད་པར་རྗེས་མ་གནང་། །གཞན་དག་རང་དོན་མཆོད་སྦྱིན་ལ། །གཞན་$གྱི་སྲོག་གི་སྦྱིན་སྲེག་བྱེད། །གཞན་གྱི་དོན་དུ་ཁྱོད་གཅིག་པུ། །རང་གི་སྲོག་གིས་སྦྱིན་སྲེག་མཛད། །དྲང་སྲོང་དམོད་མེ་མི་བཟད་པས། །སྐྱེ་བོ་མང་པོ་$བསྲེགས་པར་འགྱུར། །ཁྱོད་ཀྱིས་ཡེ་ཤེས་མེ་ཡིས་ནི། །སྐྱེ་བོ་རྣམས་ཀྱི་སྐྱེ་རྒྱུ་བསྲེགས། །$རྒྱས་པ་དྲན་པའི་མཐུ་ཆུང་བས། །མང་པོ་བགྱིས་པའི་ཚིག་དག་ནི། །ལྟག་འོག་འགལ་བར་གྱུར་ཅེས་ཐོས། །ཐུབ་པ་ཁྱོད་ཀྱི་ཀུན་ཀྱང་མིན། །དྲང་སྲོང་དམོད་པ་གྲུབ་པ་ལས། །དཀའ་ཐུབ་གྲུབ་པར་རྗེས་སུ་དཔག །མགོན་ཁྱོད་ཐུགས་རྗེ་གྲུབ་པ་ལས། །དཀའ་ཐུབ་གྲུབ་པར་རྗེས་སུ་དཔག །ལྷ་ཆེན་འདོད་པ་ཅན་གྱི་མཚན། །དྲང་སྲོང་རྣམས་ཀྱི་དམོད་པས་ལྷུང་། །ཁྱོད་ཀྱིས་ཕུང་ཁྲོལ་མཐའ་དག་གི། །རྩ་བ་འདོད་པ་ཉིད་ལྷུང་བགྱིས། །གླིང་ལས་སྐྱེས་སོགས་ཕལ་ཆེར་ནི། །གཞན་གྱིས་གང་སྨྲས་སྨྲ་བར་བགྱིད། །ཁྱོད་ཀྱིས་ཐུན་མོང་མ་ཡིན་ཆོས། །རང་གིས་ཐུགས་སུ་ཆུད་ནས་བསྟན། །མུ་སྟེགས་ཅན་གྱི་རིག་བྱེད་ཚིག །དབེན་པ་ཁོ་ནར་སྨྲ་བར་བགྱིད། །ཁྱོད་ཀྱིས་བསྒྲགས་ནས་སེང་གེ་ཡི། །སྒྲ་ཡིས་ཆོས་དག་སྟོན་པར་མཛད། །གྲངས་ཅན་བྷ་$ར་དྭ་ཛ་ནི། །དེ་ཉིད་མཐོང་ཡང་དཔྱིད་ལྡན་ལ། །ཡོངས་སུ་ཆགས་ཀྱི་གཙོ་ཁྱོད་ཀྱི། །སློབ་མའང་བུད་མེད་ཉིད་མ་ཆགས། །འུག་པ་པས་ནི་དམན་པ་ལས། །ཁྱད་པར་ཅན་ལ་སྦྱིན་ཞེས་བསྟན། །མགོན་པོ་ཁྱོད་ནི་ཐུགས་རྗེ་ཡིས། །ཁྱི་ལའང་སྦྱིན་པར་བྱ་ཞེས་གསུངས། །ལུས་ཀྱི་དཀའ་ཐུབ་བགྱིས་པ་ཡིས། །མདུད་པ་འཇིག་པར་གཅེར་བུས་འཚལ། །ཁྱོད་ནི་ཐུགས་ཀྱི་དཀའ་ཐུབ་ཀྱིས། །མདུད་པ་འཇིག་པར་བཞེད་པ་ལགས། །རྟོག་གེ་པ་དག་དངོས་པོ་རྣམས། །ལྟོས་པ་མེད་པར་གྲུབ་པར་འཚལ། །ཚིག་དབང་ཁྱོད་ཀྱིས་ཅུང་ཟད་ཀྱང་། །མི་ལྟོས་མེད་ཅེས་ལེགས་པར་གསུངས། །ནེ་ཙོས་ཉི་མ་བརྟོལ་ནས་ནི། །ཐར་པ་མཆིས་པར་བཤད་ཅེས་གྲག །ཁྱོད་ནི་མྱ་ངན་འདས་བརྙེས་ལ། །གང་དུ་ཡང་ནི་གཤེགས་མ་མཆིས། །ཐར་པ་རྒྱུད་གཞན་སྐྱེད་པ་དང་། །ནེ་ཙོས་ལམ་གཞན་སོང་བར་གྱུར། །ཁྱོད་ཉིད་ལམ་གང་ནས་གཤེགས་པ། །དེ་ཉིད་ནས་ནི་སློབ་མའང་མཆི། །ཁྱབ་འཇུག་དག་གིས་བུད་མེད་ནི། །སྟོང་ཕྲག་དྲུག་ཅུ་ཡོངས་བཟུང་གྱུར། །སྟོན་པ་འཇིག་རྟེན་འདས་ཁྱོད་ལ། །བདག་གི་མེད་ཅིང་ཡོངས་འཛིན་མེད། །ཀ་ཤི་མཛེས་དགའ་མོ་ལ་ནི། །རྒྱས་པ་ཡོངས་ཆགས་རྣམ་པར་འགྱུར། །ཁྱོད་ཁབ་བཞུགས་ནའང་ཕུང་ཁྲོལ་བའི། །གདོན་གྱིས་དབང་པོ་རྨོངས་མ་གྱུར། །རྒྱས་པ་འདོད་གདུངས་གཡེན་སྤྱོ་བས། །བུད་མེད་ཀྱི་ནི་རྡོག་པས་བསྣུན། །ཁྱོད་ནི་ཁྱིམ་པར་བཞུགས་ན་ཡང་། །ཕྱིར་ཞིང་འཁྲུག་པར་འགྱུར་བ་མེད། །དགའ་བྱེད་ཆུང་མའི་དོན་གྱི་ཕྱིར། །རྒྱ་མཚོའི་ཕ་རོལ་སོན་ཅེས་གྲག །ཁྱོད་ཀྱིས་བུད་མེད་སྟོང་ཕྲག་ནི། །བརྒྱད་ཅུ་སྤངས་ནས་ནགས་སུ་གཤེགས། །རྣ་ཅན་འཐབ་དཀའ་ལ་སོགས་ལ། །ཁྱབ་འཇུག་གིས་ནི་གནོད་པ་བརྩམས། །སེམས་ཅན་རྣམས་ལ་$ཕན་བཞེད་པ། །ཁྱོད་ཀྱིས་སྲོག་ཀྱང་བཏང་བ་མཛད། །ཁྱབ་འཇུག་གིས་ནི་སྒྱུ་བྱས་ནས། །གོམ་གསུམ་གྱིས་ཕྲོགས་གང་ཡིན་པའི། །ས་དེ་ངེས་པར་ཐར་བཞེད་པ། །ཁྱོད་ཀྱིས་རྩ་བཞིན་བཏང་བར་གྱུར། །དགའ་བྱེད་སྲོག་གཅོད་བྱེད་པའི་མདས། །འཇིག་རྟེན་རྒྱལ་རིགས་མེད་བྱས་ནས། །གྲགས་པ་ཐོབ་པ་གང་ཡིན་དེ། །ཁྱོད་ཀྱི་བསྟན་ལ་གྲགས་པ་མིན། །སྒྲ་ངན་དང་ནི་སྐྱ་བསེང་དག །གང་གི་ཕྱིར་ནི་གཡུལ་བཀྱེ་བའི། །དཔལ་དེ་ཁྱོད་ཀྱིས་འཁྲི་ཤིང་ནི། །གདུག་པ་བཞིན་དུ་སྤངས་ནས་གཤེགས། །ཁྱོད་ཀྱི་བསྟན་པ་རྙེད་པ་ན། །ཐང་ཤིང་ནགས་ན་ལྷ་ཆེན་པོ། །རྣལ་འབྱོར་དབང་ཕྱུག་སྤྱོད་པ་པོ། །དེ་ནི་མི་ཤེས་སྤྱོད་པར་བས། །དབང་པོ་གཤོལ་མེད་བྱི་བོ་ཞེས། །བྲམ་ཟེ་ད་དུང་བར་དུ་སྒྲོགས། །ཁྱོད་ཀྱིས་འབྲས་བུ་མཆོག་བརྙེས་པའི། །གྲགས་པ་བརྒྱ་བྱིན་སྒྲོགས་པར་གྱུར། །ཁྱབ་འཇུག་དག་ནི་ནག་བཀྲ་བོས། །བྲེད་འཐོམས་གྱུར་ནས་ཀུན་གཏོང་གི། །ཁྲི་ཡི་འོག་ཏུ་ཞུགས་པར་གྱུར། །གཙོ་ཁྱོད་ཀུན་དུ་བསྙེངས་མི་མངའ། །སྐྱེ་དགུའི་བདག་པོ་རང་ཉིད་ཀྱི། །བུ་མོ་དང་ནི་འཁྲིག་ཅེས་ཐོས། །ཐུབ་པ་ཁྱོད་ཀྱི་སློབ་མ་ཡང་། །ཚངས་པར་སྤྱོད་པ་སྐྱོན་མ་མཆིས། །བྲམ་ཟེ་རྣམས་ནི་དགེ་སྡིག་དག །སྦྱིན་པ་ལེན་ཅིང་འཕོ་བར་སྨྲ། །ཁྱོད་ཀྱིས་བྱས་$པ་ཆུད་མི་ཟ། །མ་བྱས་པ་དང་ཕྲད་མེད་གསུངས། །སེར་སྐྱས་བདག་གི་མཚན་ཉིད་ནི། །ཤེས་དང་ལྡན་པ་རབ་ཏུ་བརྟགས། །ཁྱོད་ཀྱིས་དེ་ལྟར་ཡིན་ན་བདག །མི་རྟག་ཉིད་དང་ལྡན་ཞེས་བསྟན། །གཟེགས་ཟན་གྱིས་ནི་ཤེས་ལས་བདག །གཞན་དང་ཁྱད་པར་ཡོངས་སུ་བརྗོད། །ཁྱོད་ཀྱིས་དེ་ནི་ཤེས་མེད་ན། །ཤིང་དང་འདྲ་བར་ཐལ་འགྱུར་གསུངས། །གཅེར་བུས་ལུས་ཀྱི་ཚད་བཞིན་དུ། །སྲོག་ནི་ཞུམ་དང་རྒྱས་པར་སྨྲ། །ཁྱོད་ཀྱིས་དེ་ནི་ཕྱོགས་གཅིག་ན། །རྣམ་པར་འཇིག་པར་འགྱུར་ཞེས་གསུངས། །བྲམ་ཟེས་འགྲོ་བ་རྣམས་ཀྱི་རྒྱུ། །སྐྱེས་བུ་རྟག་པ་ཡིན་ཞེས་བསྟན། །ཁྱོད་ཀྱིས་རྟག་པ་ཞེས་བྱ་བའི། །རྒྱུ་ནི་ཅི་ཡང་མེད་ཅེས་གསུངས། །བདག་ཉིད་ཆེན་པོ་དུག་ཅན་པའི། །སྲས་པོ་སྟོང་ཕྲག་དྲུག་ཅུ་དག །སེར་སྐྱས་བལྟས་པ་ཙམ་གྱིས་བསྲེགས། །དེ་ལའང་ཁྱོད་ནི་ཐུགས་རྗེ་མཛད། །སེར་སྐྱ་དེ་ཉིད་རིག་པས་ནི། །གཙོ་ལས་འགྲོ་བ་སྐྱེ་བར་བཤད། །ཁྱོད་ཀྱི་འགྲོ་བའི་སྐྱེ་བ་ནི། །ཉོན་མོངས་ལས་ལས་བྱུང་བར་བསྒྲགས། །སེར་སྐྱ་ལ་སོགས་ཐར་པ་ཡི། །བདག་ནི་སྲིད་པའི་རྒྱུ་ཞེས་ཟེར། །ཁྱོད་ནི་ཞི་བར་གཤེགས་གྱུར་ནས། །ཞུགས་གུམ་ལྟ་བུར་བགྲང་དུ་མེད། །མུ་སྟེགས་བྱེད་པ་ཁ་ཅིག་ནི། །ཐར་པ་འགྲོ་དང་ལྡན་ཞེས་སྨྲ། །གང་ལ་འགྲོ་ཡོད་དེ་འཁོར་བ། །ཁྱོད་ཀྱིས་ཐུགས་སུ་ཆུད་ནས་བསྟན། །གཅེར་བུས་ཀུན་དགའ་ར་བ་སོགས། །རྩིག་པ་སྡིག་པའི་རྒྱུ་ཞེས་ཟེར། །ཐམས་ཅད་མཁྱེན་པ་ཁྱོད་ཉིད་ནི། །དེ་ཉིད་བསོད་ནམས་རྒྱུ་ཞེས་གསུངས། །ལུས་ལས་ལུས་གཞན་དག་ཏུ་ནི། །ཕྲ་བའི་སྲོག་ནི་འཕོ་ཞེས་གྲག །ཁྱོད་ཀྱི་ལུས་ལས་གཞན་གྱུར་པའི། །སྲོག་ནི་ཡོད་པ་མིན་ཞེས་གསུངས། །ཁྲོས་པས་གཡུལ་ངོར་བསད་ན་ནི། །བདེ་འགྲོར་འགྱུར་ཞེས་རྒྱས་པ་ཟེར། །མགོན་པོ་ཁྱོད་ཀྱིས་གནས་སྐབས་དེའི། །སེམས་ནི་ངན་འགྲོ་ཡིན་ཞེས་གསུངས། །སྐྱ་བསེང་བུ་ནི་བརྗོད་བྱས་ན། །བསོད་ནམས་འགྱུར་ཞེས་སོ་སོར་སྨྲ། །གང་ཞིག་བགྲོད་མིན་བགྲོད་བྱེད་པ། །དེ་དག་ཁྱོད་ཀྱི་བསྟན་ལ་སྨད། །སྐེམ་བྱེད་དབང་པོ་ཉེ་དབང་པོ། །དྲག་པོ་ལ་སོགས་འཇིགས་པ་དང་། །བསྡིགས་ཕྱིར་མཚོན་ཆ་རྟག་ཏུ་ཐོགས། །ཁྱོད་བསྙེངས་བྲལ་ཞིང་བསྡིགས་མི་མཛད། །ཁྱོད་ནི་སུས་ཀྱང་མི་བསྙེངས་ལ། །སུ་ལའང་བསྡིགས་པར་མི་མཛད་པས། །ཁྱོད་ཉིད་གཅིག་པུ་མཚོན་མི་བསྣམས། །དེས་ན་འགྲོ་བ་རྣམས་ལས་འཕགས། །སྨྲ་པོ་ཉོན་མོངས་བཅས་པའི་ཚིག །རིག་བྱེད་ལ་སོགས་ཚིག་དག་ནི། །ཕལ་ཆེར་ལྟག་འོག་འགལ་བ་ལགས། །ཁྱོད་ཀྱི་ཐམས་ཅད་མཁྱེན་པའི་གསུང་། །གཞན་གྱི་བསྟན་བཅོས་གཞན་དག་ནི། །ཕལ་ཆེར་སྔ་ཕྱི་འགལ་བ་ལས། །ཁྱོད་ཉིད་ཀྱི་ནི་གཞུང་ལུགས་དག །ཐོག་མ་བར་མཐར་སྐྱོན་མ་མཆིས། །ཆོས་འདོད་པ་དག་དམངས་རིགས་ལ། །བློ་གྲོས་སྦྱིན་པར་བྱ་མིན་ཟེར། །ཁྱོད་ནི་གདོལ་པ་རྣམས་ལ་ཡང་། །ཐུགས་རྗེས་དམ་ཆོས་སྟོན་པར་མཛད། །ལྗོན་ཤིང་བཟང་པོ་རྣམས་སྤངས་ནས། །ངན་པ་ལ་ནི་སུ་ཞིག་བརྟེན། །འདོད་ཆགས་བྲལ་བརྙེས་ཁྱོད་བཞུགས་ན། །མཁས་པ་སུ་ཞིག་སྟོན་གཞན་འདུད། །སེར་སྐྱས་ཡུལ་རྣམས་ལ་སྤྱད་བཞིན། །ཡེ་ཤེས་འགྱུར་མཆི་སྡིག་བྲལ་བ། །ཁྱོད་ཀྱིས་ཀུན་ནས་ཉོན་མོངས་ལ། །ཐར་པ་ག་ལ་ཡོད་ཅེས་གསུངས། །བསོད་ནམས་བྱས་པའི་ཚོགས་དག་ནི། །སེམས་ཅན་རྣམས་ལ་ཡོངས་བསྔོ་བར། །བཅོམ་ལྡན་ཁྱོད་ཀྱིས་གང་གསུངས་པ། །དེ་གཞན་བསྟན་བཅོས་ལས་མ་བཤད། །ལྷ་རྟེན་དང་ནི་མཆོད་སྦྱིན་ལ། །སེམས་ཅན་གསོད་པར་བྱེད་པ་གང་། །འཇིག་རྟེན་པ་ནི་ཆོས་སུ་འཚལ། །ཁྱོད་ཀྱི་བསྟན་ལ་དེ་ད$ག་སྨད། །གང་ཞིག་སྲོག་ཆགས་ལ་རྟག་གནོད། །དེ་ལ་ཆོས་ཉིད་ག་ལ་ཡོད། །གཙོ་བོ་ཁྱོད་ཀྱིས་རང་ཉིད་ཀྱི། །སྲོག་གིས་སེམས་ཅན་ལེགས་པར་བསྲུངས། །ཤཱཀྱའི་རྒྱལ་རིགས་འཁྲུངས་ཁྱོད་ཀྱིས། །གང་ཞིག་བདེན་དང་མི་སླུ་དང་། །ཚངས་པར་སྤྱོད་དང་དུལ་བ་དང་། །བརྩེར་ལྡན་དམ་ཆོས་ལགས་པར་དགོངས། །རིག་བྱེད་མཐའ་ལ་འབྱམས་པས་ཀྱང་། །གཡུལ་ངོར་དགྲ་མངོན་འོངས་བསད་ཅེས། །འཇིག་རྟེན་སྨྲ་ཡི་ཁྱོད་ཀྱིས་ནི། །དགྲ་ལའང་སྙིང་རྗེ་བྱ་ཞེས་གསུངས། །གཞོན་ནུས་རང་གི་ཞང་པོ་ལ། །མདུང་གིས་བསྣུན་ཞེས་བཀའ་མཆིད་གདའ། །དཔའ་$བོ་ཁྱོད་ཀྱིས་ཉོན་མོངས་པའི། །དྲ་བ་ཤེས་རབ་མཚོན་གྱིས་དྲལ། །ཁྱབ་འཇུག་གིས་ནི་རང་ཉིད་ཀྱི། །སླས་ཀྱང་ཡོངས་སུ་བསྐྱབ་མ་ནུས། །གཙོ་བོ་$ཁྱོད་ཀྱིས་སེམས་ཅན་ཀུན། །བསྐྱབ་པའི་སླད་དུ་བརྩོན་པ་ལགས། །རྒན་པོས་སྦྱར་བའི་འཇིགས་ཤེས་ནས། །ཁྱབ་འཇུག་གིས་ནི་བཅོམ་བརླག་བཏང་། །ཐུབ་པ་ཁྱོད་ལ་བསྙིངས་བགྱིད་གང་། །སེམས་ཅན་དེ་ནི་འགའ་མ་མཆིས། །ཁྱབ་འཇུག་གིས་ནི་གཉེན་འདུན་དག །ལེ་ལན་གྱིས་ནི་གཏུགས་པར་གྱུར། །ཁྱོད་ཀྱི་གཉེན་འདུན་ཐམས་ཅད་ནི། །འཁོར་བ་ལས་ནི་རྣམ་པར་སྒྲོལ། །མུ་སྟེགས་ཅན་གྱི་གཞུང་ལུགས་ལ། །ཇི་ལྟ་ཇི་ལྟར་རྣམ་བསམས་པ། །དེ་ལྟ་དེ་ལྟར་མགོན་ཁྱོད་ལ། །བདག་གི་སེམས་ནི་དད་པར་གྱུར། །དེ་ལྟར་ཐམས་ཅད་མཁྱེན་མིན་པའི། །གྲུབ་མཐའི་སྐྱོན་གྱི་བརླག་སེམས་ལྡན། །བསམ་བརླག་རྣམས་ཀྱིས་སྐྱོན་མེད་པའི། །སྟོན་པ་ཁྱོད་ཀྱང་མི་མཐོང་ངོ་། །འཇིག་རྟེན་ལྷ་དང་བྲམ་ཟེ་དང་། །རིག་བྱེད་ཤཱཀྱ་འདི་དག་ཅེས། །སྡང་བར་སྨྲ་བ་རང་སྐྱོན་ཉིད། །ཅི་ཕྱིར་སེམས་པར་བྱེད་ཅེ་ན། །གང་སླད་ཁྱོད་ཀྱི་བསྟན་པ་ནི། །བདེ་བས་བདེ་ཉིད་ཐོབ་བགྱིད་པ། །དེ་སླད་སྨྲ་བའི་སེང་ཁྱོད་ཀྱི། །གཞུང་ལུགས་ལ་ནི་འགྲོ་འདི་དགའ། །ཁྱོད་ཀྱི་ཡོན་ཏན་ཡང་དག་པ། །རྣམ་པ་འདི་ལྟར་རབ་བརྗོད་པས། །བདག་གིས་བསོད་ནམས་གང་ཐོབ་དེས། །འགྲོ་བའི་འཇིག་རྟེན་ཁྱོད་འདྲར་ཤོག །མགོན་པོ་ཁྱད་པར་འཕགས་བསྟོད་པ། $།བཏོན་པས་བདག་གིས་དགེ་བསགས་པ། །གང་ཡིན་དེས་ནི་འགྲོ་བ་ཀུན། །བྱང་ཆུབ་ལམ་ལ་གཞོལ་གྱུར་ཅིག །ཁྱད་པར་དུ་འཕགས་པའི་བསྟོད་པ་སློབ་དཔོན་མཐོ་བཙུན་གྲུབ་རྗེས་མཛད་པ་རྫོགས་སོ།། །།རྒྱ་གར་གྱི་མཁན་པོ་སརྦ་ཛྙཱ་དེ་ཝ་དང་། ཞུ་ཆེན་གྱི་ལོ་ཙཱ་བ་བན་དེ་རིན་ཆེན་མཆོག་གིས་བསྒྱུར། སླད་ཀྱིས་བན་དེ་དཔལ་བརྩེགས་རཀྵི་ཏས་བསྒྱུར་ཅིང་ཞུས་ཏེ་གཏན་ལ་ཕབ་པའོ།། །།')"
      ]
     },
     "execution_count": 120,
     "metadata": {},
     "output_type": "execute_result"
    }
   ],
   "source": [
    "parse_double_tsek(ann_base)"
   ]
  },
  {
   "cell_type": "markdown",
   "metadata": {},
   "source": [
    "### Text Similarity"
   ]
  },
  {
   "cell_type": "code",
   "execution_count": null,
   "metadata": {},
   "outputs": [],
   "source": [
    "def get_jaccard_sim(str1, str2): \n",
    "    a = set(str1.split('་'))\n",
    "    b = set(str2.split('་'))\n",
    "    c = a.intersection(b)\n",
    "    return float(len(c)) / (len(a) + len(b) - len(c))"
   ]
  },
  {
   "cell_type": "code",
   "execution_count": null,
   "metadata": {},
   "outputs": [],
   "source": [
    "str1 = '༄༅༅། །རྒྱ་གར་སྐད་དུ། ཡོ་ག་རཏྣ་མཱ་ལ་ནཱ་མ་ཧེ་བཛྲ་པཉྩི་ཀཱ། བོད་སྐད་དུ། དགྱེས་པ་རྡོ་རྗེའི་དཀའ་འགྲེལ་རྣལ་འབྱོར་རིན་པོ་ཆེའི་ཕྲེང་བ་ཞེས་བྱ་བ། དཔལ་དགྱེས་པའི་རྡོ་རྗེ་ལ་ཕྱག་'\n",
    "str2 = '༄༅༅། །རྒྱ་གར་སྐད་དུ། ཡོ་ག་རཏྣ་མཱ་ལ་ནཱ་མ་ཧེ་པཉྩི་ཀཱ། བོད་སྐད་དུ། དགྱེས་པ་རྡོ་རྗེའི་དཀའ་རྣལ་འབྱོར་རིན་ངག་གི་དབང་ཕྱུག་པོ་ཆེའི་ཕྲེང་བ་ཞེས་བྱ་བ། དཔལ་དགྱེས་པའི་རྡོ་རྗེ་ལ་ཕྱག་'"
   ]
  },
  {
   "cell_type": "code",
   "execution_count": null,
   "metadata": {},
   "outputs": [],
   "source": [
    "str3 = '༄༅༅། །རྒྱ་གར་སྐད་དུ། ཧེ་བཛྲ་ཏནྟྲ་པཉྫི་ཀཱ་པདྨ་ནི་ནཱ་མ། བོད་སྐད་དུ། ཀྱེའི་རྡོ་རྗེའི་རྒྱུད་ཀྱི་དཀའ་འགྲེལ་པདྨ་ཅན་ཞེས་བྱ་བ། ངག་གི་དབང་ཕྱུག་འཇམ་དཔལ་གཞོན་ནུར་གྱུར་པ་ལ་ཕྱག་འཚལ་ལོ།'"
   ]
  },
  {
   "cell_type": "code",
   "execution_count": null,
   "metadata": {},
   "outputs": [],
   "source": [
    "get_jaccard_sim(str1, str2)"
   ]
  },
  {
   "cell_type": "code",
   "execution_count": null,
   "metadata": {},
   "outputs": [],
   "source": [
    "get_jaccard_sim(str1, str3)"
   ]
  }
 ],
 "metadata": {
  "kernelspec": {
   "display_name": "Python 3",
   "language": "python",
   "name": "python3"
  },
  "language_info": {
   "codemirror_mode": {
    "name": "ipython",
    "version": 3
   },
   "file_extension": ".py",
   "mimetype": "text/x-python",
   "name": "python",
   "nbconvert_exporter": "python",
   "pygments_lexer": "ipython3",
   "version": "3.6.7"
  }
 },
 "nbformat": 4,
 "nbformat_minor": 2
}
