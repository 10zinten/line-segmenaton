{
 "cells": [
  {
   "cell_type": "code",
   "execution_count": 86,
   "metadata": {},
   "outputs": [],
   "source": [
    "#export\n",
    "from pathlib import Path\n",
    "import pdb\n",
    "from IPython.display import Markdown, display\n",
    "\n",
    "from diff_match_patch import diff_match_patch as dmp_module"
   ]
  },
  {
   "cell_type": "code",
   "execution_count": 2,
   "metadata": {},
   "outputs": [],
   "source": [
    "#export\n",
    "before = Path('data/074_before.txt')\n",
    "after = Path('data/074_after.txt')"
   ]
  },
  {
   "cell_type": "code",
   "execution_count": 3,
   "metadata": {},
   "outputs": [],
   "source": [
    "#export\n",
    "before_raw_text = before.open().read()"
   ]
  },
  {
   "cell_type": "code",
   "execution_count": 4,
   "metadata": {},
   "outputs": [
    {
     "data": {
      "text/plain": [
       "'༄༅༅། །ལས་བརྒྱ་ཐམ་པ། བམ་པོ་ཉི་ཤུ་བདུན་པ། གྲུམ་སྟོད་ཅེས་བྱ་བ་ནི། གླེང་གཞི་མཉན་དུ་ཡོད་པ་ན་བཞུགས་ཏེ། དེའི་ཆེ་ནགས་ཁྲོད་ཅིག་ན་དྲང་སྲོང་ལྔ་བརྒྱ་ཙམ་གནས་ཏེ། དེ་དག་དེ་ན་འཁོད་ཅིང་མེའི་སྦྱིན་སྲེག་བྱེད་དོ། །སངས་རྒྱས་བཅོམ་ལྡན་འདས་བགྲོད་པ་གཅིག་པུའི་ལམ་སྟོན་པ། རྣམ་པ་གཉིས་ཀྱི་ཤེས་བྱ་དང་ཡེ་ཤེས་ལ་མངའ་བརྙེས་པ། མ་འདྲེས་པའི་དྲན་པ་ཉེ་བར་གཞག་པ་གསུམ་ལ་མཁས་པ། མི་འཇིགས་པ་བཞེས་མི་འཇིགས་པ། འགྲོ་བ་ལྔར་འགྲོ་བ་ལས་རྣམ་པར་གྲོལ་བ། སྐྱེ་མཆེད་དྲུག་ལ་མཁས་པ། བྱང་ཆུབ་ཀྱི་ཡན་ལག་བདུན་ལ་སྤྱོད་ཡུལ་བ། རྣམ་པར་ཐར་པ་བརྒྱད་ལ་བསམ་གཏན་པ། མཐར་གྱིས་གནས་པའི་སྙོམས་པར་འཇུག་པ་དགུ་ལ་སྙོམས་པར་འཇུག་པ། སྟོབས་བཅུའི་སྟོབས་དང་ལྡན་པ། ཡང་དག་པའི་སེང་གེའི་སྒྲ་ཆེན་པོ་སྒྲོགས་པ་རྣམས་ནི་ཆོས་ཉིད་ཀྱིས་ཉིན་དུས་གསུམ་མཚན་དུས་གསུམ་སྟེ། ཉིན་མཚན་དུས་དྲུག་ཏུ་སངས་རྒྱས་ཀྱི་སྤྱན་གྱིས་འཇིག་རྟེན་ལ་གཟིགས་ཏེ། སུ་ནི་དར། སུ་ནི་རྒུད། སུ་ནི་ཕོངས་ཤིང་འདུག །སུ་ནི་ཉམ་ང་བར་གྱུར། སུ་ནི་གནོད་པ་དང་ལྡན། སུ་ནི་ཕོངས་པ་དང་ཉམ་ང་བ་དང་གནོད་པ་དང་ལྡན། སུ་ནི་ངན་སོང་དུ་གཞོལ། སུ་ནི་ངན་སོང་དུ་འབབ། སུ་ནི་ངན་སོང་དུ་བབ། སུ་ནི་ངས་ངན་སོང་ནས་ཕྱུང་སྟེ། མཐོ་རིས་དང་ཐར་པ་དང་འབྲས་བུ་ལ་གཞག་པར་བྱ། སུ་ནི་ཉེས་'"
      ]
     },
     "execution_count": 4,
     "metadata": {},
     "output_type": "execute_result"
    }
   ],
   "source": [
    "before_raw_text[:1000]"
   ]
  },
  {
   "cell_type": "code",
   "execution_count": 5,
   "metadata": {},
   "outputs": [],
   "source": [
    "#export\n",
    "after_raw_text = after.open().read()"
   ]
  },
  {
   "cell_type": "code",
   "execution_count": 6,
   "metadata": {},
   "outputs": [
    {
     "data": {
      "text/plain": [
       "'༄༅༅། །ལས་བརྒྱ་ཐམ་པ། བམ་པོ་ཉི་ཤུ་བདུན་པ། གྲུམ་སྟོད་ཅེས་བྱ་བ་ནི། གླེང་གཞི་མཉན་དུ་ཡོད་པ་ན་བཞུགས་ཏེ། དེའི་ཚེ་ནགས་ཁྲོད་ཅིག་ན་དྲང་སྲོང་ལྔ་བརྒྱ་ཙམ་གནས་ཏེ། དེ་དག་དེ་ན་འཁོད་ཅིང་མེའི་སྦྱིན་སྲེག་བྱེད་དོ། །སངས་རྒྱས་བཅོམ་ལྡན་འདས་བགྲོད་པ་གཅིག་པུའི་ལམ་སྟོན་པ། རྣམ་པ་གཉིས་ཀྱི་ཤེས་བྱ་དང་ཡེ་ཤེས་ལ་མངའ་བརྙེས་པ། མ་འདྲེས་པའི་དྲན་པ་ཉེ་བར་གཞག་པ་གསུམ་ལ་མཁས་པ། མི་འཇིགས་པ་བཞིས་མི་འཇིགས་པ། འགྲོ་བ་ལྔར་འགྲོ་བ་ལས་རྣམ་པར་གྲོལ་བ། སྐྱེ་མཆེད་དྲུག་ལ་མཁས་པ། བྱང་ཆུབ་ཀྱི་ཡན་ལག་བདུན་ལ་སྤྱོད་ཡུལ་བ། རྣམ་པར་ཐར་པ་བརྒྱད་ལ་བསམ་གཏན་པ། མཐར་གྱིས་གནས་པའི་སྙོམས་པར་འཇུག་པ་དགུ་ལ་སྙོམས་པར་འཇུག་པ། སྟོབས་བཅུའི་སྟོབས་དང་ལྡན་པ། ཡང་དག་པའི་སེང་གེའི་སྒྲ་ཆེན་པོ་སྒྲོགས་པ་རྣམས་ནི་ཆོས་ཉིད་ཀྱིས་ཉིན་དུས་གསུམ་མཚན་དུས་གསུམ་སྟེ། ཉིན་མཚན་དུས་དྲུག་ཏུ་སངས་རྒྱས་ཀྱི་སྤྱན་གྱིས་འཇིག་རྟེན་ལ་གཟིགས་ཏེ། སུ་ནི་དར། སུ་ནི་རྒུད། སུ་ནི་ཕོངས་ཤིང་འདུག །སུ་ནི་ཉམ་ང་བར་གྱུར། སུ་ནི་གནོད་པ་དང་ལྡན། སུ་ནི་ཕོངས་པ་དང་ཉམ་ང་བ་དང་གནོད་པ་དང་ལྡན། སུ་ནི་ངན་སོང་དུ་གཞོལ། སུ་ནི་ངན་སོང་དུ་འབབ། སུ་ནི་ངན་སོང་དུ་བབ། སུ་ནི་ངས་ངན་སོང་ནས་ཕྱུང་སྟེ། མཐོ་རིས་དང་ཐར་པ་དང་འབྲས་བུ་ལ་གཞག་པར་བྱ། སུ་ནི་ཉེས་'"
      ]
     },
     "execution_count": 6,
     "metadata": {},
     "output_type": "execute_result"
    }
   ],
   "source": [
    "after_raw_text[:1000]"
   ]
  },
  {
   "cell_type": "markdown",
   "metadata": {},
   "source": [
    "### Use dmp diff to find error and correction"
   ]
  },
  {
   "cell_type": "code",
   "execution_count": 10,
   "metadata": {},
   "outputs": [],
   "source": [
    "class dmp(dmp_module):\n",
    "    def __init__(self):\n",
    "        # Set diff timeout to infinity\n",
    "        self.Diff_Timeout = 0"
   ]
  },
  {
   "cell_type": "code",
   "execution_count": 11,
   "metadata": {},
   "outputs": [
    {
     "data": {
      "text/plain": [
       "0"
      ]
     },
     "execution_count": 11,
     "metadata": {},
     "output_type": "execute_result"
    }
   ],
   "source": [
    "dmp = dmp()\n",
    "dmp.Diff_Timeout"
   ]
  },
  {
   "cell_type": "code",
   "execution_count": 12,
   "metadata": {},
   "outputs": [
    {
     "data": {
      "text/plain": [
       "9745"
      ]
     },
     "execution_count": 12,
     "metadata": {},
     "output_type": "execute_result"
    }
   ],
   "source": [
    "diffs = dmp.diff_main(before_raw_text, after_raw_text)\n",
    "len(diffs)"
   ]
  },
  {
   "cell_type": "code",
   "execution_count": 87,
   "metadata": {
    "scrolled": false
   },
   "outputs": [
    {
     "data": {
      "text/plain": [
       "[(0,\n",
       "  '༄༅༅། །ལས་བརྒྱ་ཐམ་པ། བམ་པོ་ཉི་ཤུ་བདུན་པ། གྲུམ་སྟོད་ཅེས་བྱ་བ་ནི། གླེང་གཞི་མཉན་དུ་ཡོད་པ་ན་བཞུགས་ཏེ། དེའི་'),\n",
       " (-1, 'ཆ'),\n",
       " (1, 'ཚ'),\n",
       " (0,\n",
       "  'ེ་ནགས་ཁྲོད་ཅིག་ན་དྲང་སྲོང་ལྔ་བརྒྱ་ཙམ་གནས་ཏེ། དེ་དག་དེ་ན་འཁོད་ཅིང་མེའི་སྦྱིན་སྲེག་བྱེད་དོ། །སངས་རྒྱས་བཅོམ་ལྡན་འདས་བགྲོད་པ་གཅིག་པུའི་ལམ་སྟོན་པ། རྣམ་པ་གཉིས་ཀྱི་ཤེས་བྱ་དང་ཡེ་ཤེས་ལ་མངའ་བརྙེས་པ། མ་འདྲེས་པའི་དྲན་པ་ཉེ་བར་གཞག་པ་གསུམ་ལ་མཁས་པ། མི་འཇིགས་པ་བཞ'),\n",
       " (-1, 'ེ'),\n",
       " (1, 'ི'),\n",
       " (0,\n",
       "  'ས་མི་འཇིགས་པ། འགྲོ་བ་ལྔར་འགྲོ་བ་ལས་རྣམ་པར་གྲོལ་བ། སྐྱེ་མཆེད་དྲུག་ལ་མཁས་པ། བྱང་ཆུབ་ཀྱི་ཡན་ལག་བདུན་ལ་སྤྱོད་ཡུལ་བ། རྣམ་པར་ཐར་པ་བརྒྱད་ལ་བསམ་གཏན་པ། མཐར་གྱིས་གནས་པའི་སྙོམས་པར་འཇུག་པ་དགུ་ལ་སྙོམས་པར་འཇུག་པ། སྟོབས་བཅུའི་སྟོབས་དང་ལྡན་པ། ཡང་དག་པའི་སེང་གེའི་སྒྲ་ཆེན་པོ་སྒྲོགས་པ་རྣམས་ནི་ཆོས་ཉིད་ཀྱིས་ཉིན་དུས་གསུམ་མཚན་དུས་གསུམ་སྟེ། ཉིན་མཚན་དུས་དྲུག་ཏུ་སངས་རྒྱས་ཀྱི་སྤྱན་གྱིས་འཇིག་རྟེན་ལ་གཟིགས་ཏེ། སུ་ནི་དར། སུ་ནི་རྒུད། སུ་ནི་ཕོངས་ཤིང་འདུག །སུ་ནི་ཉམ་ང་བར་གྱུར། སུ་ནི་གནོད་པ་དང་ལྡན། སུ་ནི་ཕོངས་པ་དང་ཉམ་ང་བ་དང་གནོད་པ་དང་ལྡན། སུ་ནི་ངན་སོང་དུ་གཞོལ། སུ་ནི་ངན་སོང་དུ་འབབ། སུ་ནི་ངན་སོང་དུ་བབ། སུ་ནི་ངས་ངན་སོང་ནས་ཕྱུང་སྟེ། མཐོ་རིས་དང་ཐར་པ་དང་འབྲས་བུ་ལ་གཞག་པར་བྱ། སུ་ནི་ཉེས་པར་སྤྱོད་པའི་འདམ་དུ་བྱིང་བ་ལས་ལག་ནས་དྲང་བར་བྱ། སུ་ནི་འཕགས་པའི་ནོར་བདུན་མེད་པ་ལས། འཕགས་པའི་ནོར་བདུན་གྱི་དབང་ཕྱུག་ལ་དབང་བྱེད་དུ་གཞུག་པར་བྱ། སུ་ནི་དགེ་བའི་རྩ་བ་རྣམས་མ་བསྐྱེད་པ་ལས་བསྐྱེད་པར་བྱ། སུ་ནི་དགེ་བའི་རྩ་བ་རྣམས་བསྐྱེད་ཟིན་པ་ལས། ཡོངས་སུ་སྨིན་པར་བྱ། སུ་ནི་དགེ་བའི་རྩ་བ་རྣམས་ཡོངས་སུ་སྨིན་ཟིན་པ་ལས་ཡེ་ཤེས་ཀྱི་མཚོན་གྱིས་བརྟོལ་བར་བྱ། སུ་ནི་སངས་རྒྱས་བྱུང་བས་བརྒྱན་པའི་འཇིག་རྟེན་འབྲས་བུ་དང་བཅས་པར་བྱ་སྙམ་དུ་ཡེ་ཤེས་གཟིགས་པ་འཇུག་གོ། །རྒྱ་མཚོ་ཆུ་སྲིན་རྣམས་ཀྱི་གནས། །དུས་རླབས་ཡོལ་བར་འགྱུར་ཡ'),\n",
       " (-1, '་'),\n",
       " (0, 'ང'),\n",
       " (1, '་')]"
      ]
     },
     "execution_count": 87,
     "metadata": {},
     "output_type": "execute_result"
    }
   ],
   "source": [
    "test = diffs[:10]\n",
    "test"
   ]
  },
  {
   "cell_type": "markdown",
   "metadata": {},
   "source": [
    "### Find error and correction sentence pair\n",
    "- loop 0 to len(diffs)\n",
    "    - If its insert or delete\n",
    "        - loop till the ། reached or if it's not common substring:\n",
    "            - accumulate error, correct part and common substring\n",
    "        - find prefix and surfix and create error and correct sentence pair\n",
    "    - then contiune from there.\n",
    "      \n",
    "Get all sentences containing corresponding error and correction\n",
    "- error-sentence\n",
    "- correct-sentence"
   ]
  },
  {
   "cell_type": "code",
   "execution_count": 83,
   "metadata": {
    "scrolled": true
   },
   "outputs": [],
   "source": [
    "def get_text_html(text, color):\n",
    "    return \"<span style='color:{}'>{}</span>\".format(color, text)\n",
    "\n",
    "def show_data(data):\n",
    "    color = ['red', 'blue', 'darkgreen', 'slateblue', 'hotpink', 'darkorchid']\n",
    "    for d in data:\n",
    "        diffs = dmp.diff_main(*d)\n",
    "        \n",
    "        # assign color and then create sentences\n",
    "        c_idx = -1\n",
    "        correct, error = '', ''\n",
    "        for i in range(len(diffs)):\n",
    "            if diffs[i][0] == 0 or (i == 0 and (diffs[0] == -1 or diffs[0] == 1)):\n",
    "                c_idx += 1\n",
    "            \n",
    "            if diffs[i][0] != 0:\n",
    "                diffs[i] += (color[c_idx], )\n",
    "                \n",
    "            if diffs[i][0] == 1:\n",
    "                correct += get_text_html(*diffs[i][1:])\n",
    "            elif diffs[i][0] == -1:\n",
    "                error += get_text_html(*diffs[i][1:])\n",
    "            else:\n",
    "                correct += diffs[i][1]\n",
    "                error += diffs[i][1]\n",
    "            \n",
    "        display(Markdown(error))\n",
    "        display(Markdown(correct))\n",
    "        print()"
   ]
  },
  {
   "cell_type": "code",
   "execution_count": 58,
   "metadata": {
    "scrolled": false
   },
   "outputs": [],
   "source": [
    "def find_prefix(diff):\n",
    "    text = diff[1]\n",
    "    return text[text.rfind('།')+1:].strip()\n",
    "\n",
    "def find_surfix(diff):\n",
    "    text = diff[1]\n",
    "    return text[:text.find('།')+1].strip()\n",
    "\n",
    "def find_error(diffs):\n",
    "    data = []\n",
    "    #pdb.set_trace()\n",
    "    i = 0\n",
    "    while i < len(diffs):\n",
    "        correct, error = '', ''\n",
    "        start = 0\n",
    "        if diffs[i][0] != 0:\n",
    "            start = i-1\n",
    "            while '།' not in diffs[i][1] or diffs[i][0] != 0:\n",
    "                if diffs[i][0] == 1:\n",
    "                    correct += diffs[i][1]\n",
    "                elif diffs[i][0] == -1:\n",
    "                    error += diffs[i][1]\n",
    "                else:\n",
    "                    correct += diffs[i][1]\n",
    "                    error += diffs[i][1]\n",
    "                \n",
    "                i += 1\n",
    "                \n",
    "            prefix = find_prefix(diffs[start])\n",
    "            surfix = find_surfix(diffs[i])\n",
    "            correct = prefix + correct + surfix\n",
    "            error = prefix + error + surfix\n",
    "            data.append((error, correct))\n",
    "        \n",
    "        i += 1\n",
    "        \n",
    "    return data"
   ]
  },
  {
   "cell_type": "code",
   "execution_count": 79,
   "metadata": {},
   "outputs": [
    {
     "data": {
      "text/markdown": [
       "དེའི་<span style='color:red'>ཆ</span>ེ་ནགས་ཁྲོད་ཅིག་ན་དྲང་སྲོང་ལྔ་བརྒྱ་ཙམ་གནས་ཏེ།"
      ],
      "text/plain": [
       "<IPython.core.display.Markdown object>"
      ]
     },
     "metadata": {},
     "output_type": "display_data"
    },
    {
     "data": {
      "text/markdown": [
       "དེའི་<span style='color:red'>ཚ</span>ེ་ནགས་ཁྲོད་ཅིག་ན་དྲང་སྲོང་ལྔ་བརྒྱ་ཙམ་གནས་ཏེ།"
      ],
      "text/plain": [
       "<IPython.core.display.Markdown object>"
      ]
     },
     "metadata": {},
     "output_type": "display_data"
    },
    {
     "name": "stdout",
     "output_type": "stream",
     "text": [
      "\n"
     ]
    },
    {
     "data": {
      "text/markdown": [
       "མི་འཇིགས་པ་བཞ<span style='color:red'>ེ</span>ས་མི་འཇིགས་པ།"
      ],
      "text/plain": [
       "<IPython.core.display.Markdown object>"
      ]
     },
     "metadata": {},
     "output_type": "display_data"
    },
    {
     "data": {
      "text/markdown": [
       "མི་འཇིགས་པ་བཞ<span style='color:red'>ི</span>ས་མི་འཇིགས་པ།"
      ],
      "text/plain": [
       "<IPython.core.display.Markdown object>"
      ]
     },
     "metadata": {},
     "output_type": "display_data"
    },
    {
     "name": "stdout",
     "output_type": "stream",
     "text": [
      "\n"
     ]
    },
    {
     "data": {
      "text/markdown": [
       "དུས་རླབས་ཡོལ་བར་འགྱུར་ཡ<span style='color:red'>་</span>ངསྲིད།"
      ],
      "text/plain": [
       "<IPython.core.display.Markdown object>"
      ]
     },
     "metadata": {},
     "output_type": "display_data"
    },
    {
     "data": {
      "text/markdown": [
       "དུས་རླབས་ཡོལ་བར་འགྱུར་ཡང<span style='color:blue'>་</span>སྲིད།"
      ],
      "text/plain": [
       "<IPython.core.display.Markdown object>"
      ]
     },
     "metadata": {},
     "output_type": "display_data"
    },
    {
     "name": "stdout",
     "output_type": "stream",
     "text": [
      "\n"
     ]
    },
    {
     "data": {
      "text/markdown": [
       "སངས་རྒྱས་དུ<span style='color:red'>ས</span>་ལས་ཡོལ་བ་མེད།"
      ],
      "text/plain": [
       "<IPython.core.display.Markdown object>"
      ]
     },
     "metadata": {},
     "output_type": "display_data"
    },
    {
     "data": {
      "text/markdown": [
       "སངས་རྒྱས་དུ<span style='color:red'>ལ</span>་ལས་ཡོལ་བ་མེད།"
      ],
      "text/plain": [
       "<IPython.core.display.Markdown object>"
      ]
     },
     "metadata": {},
     "output_type": "display_data"
    },
    {
     "name": "stdout",
     "output_type": "stream",
     "text": [
      "\n"
     ]
    },
    {
     "data": {
      "text/markdown": [
       "<span style='color:slateblue'>ཆ་</span>དེ་ནས་དྲང་སྲོང་དེ་དག་གིས།"
      ],
      "text/plain": [
       "<IPython.core.display.Markdown object>"
      ]
     },
     "metadata": {},
     "output_type": "display_data"
    },
    {
     "data": {
      "text/markdown": [
       "དེ་ནས་དྲང་སྲོང་དེ་དག་གིས།"
      ],
      "text/plain": [
       "<IPython.core.display.Markdown object>"
      ]
     },
     "metadata": {},
     "output_type": "display_data"
    },
    {
     "name": "stdout",
     "output_type": "stream",
     "text": [
      "\n"
     ]
    },
    {
     "data": {
      "text/markdown": [
       "མེའི་སྦྱིན་སྲེག་གི་དྲུང་ནས་རྗེས་གཅིག་ནས་གཅིག་ཏུ་སྤྲུལ་པ་མཐོང་ནས་<span style='color:red'>ཆ་</span>དེ་དག་འདི་སྙམ་དུ་སེམས་ཏེ།"
      ],
      "text/plain": [
       "<IPython.core.display.Markdown object>"
      ]
     },
     "metadata": {},
     "output_type": "display_data"
    },
    {
     "data": {
      "text/markdown": [
       "མེའི་སྦྱིན་སྲེག་གི་དྲུང་ནས་རྗེས་གཅིག་ནས་གཅིག་ཏུ་སྤྲུལ་པ་མཐོང་ནས་དེ་དག་འདི་སྙམ་དུ་སེམས་ཏེ།"
      ],
      "text/plain": [
       "<IPython.core.display.Markdown object>"
      ]
     },
     "metadata": {},
     "output_type": "display_data"
    },
    {
     "name": "stdout",
     "output_type": "stream",
     "text": [
      "\n"
     ]
    },
    {
     "data": {
      "text/markdown": [
       "<span style='color:slateblue'> །</span>དེ་ནས་དྲང་སྲོང་ལྔ་བརྒྱ་པོ་དེ་དག་གིས་སངས་རྒྱས་བཅོམ་ལྡན་འདས་སྐུ་སྐྱེས་བུ་ཆེན་པོའི་མཚན་སུམ་ཅུ་རྩ་གཉིས་ཀྱིས་ལེགས་པར་བརྒྱན་ཅིང་སྤ་བར་བྱས་པ།"
      ],
      "text/plain": [
       "<IPython.core.display.Markdown object>"
      ]
     },
     "metadata": {},
     "output_type": "display_data"
    },
    {
     "data": {
      "text/markdown": [
       "དེ་ནས་དྲང་སྲོང་ལྔ་བརྒྱ་པོ་དེ་དག་གིས་སངས་རྒྱས་བཅོམ་ལྡན་འདས་སྐུ་སྐྱེས་བུ་ཆེན་པོའི་མཚན་སུམ་ཅུ་རྩ་གཉིས་ཀྱིས་ལེགས་པར་བརྒྱན་ཅིང་སྤ་བར་བྱས་པ།"
      ],
      "text/plain": [
       "<IPython.core.display.Markdown object>"
      ]
     },
     "metadata": {},
     "output_type": "display_data"
    },
    {
     "name": "stdout",
     "output_type": "stream",
     "text": [
      "\n"
     ]
    },
    {
     "data": {
      "text/markdown": [
       "ལོ་བཅུ་གཉིས་ཀྱི་བར་དུ་ཞི་གནས་ཀྱི་སེམས་ལ་གོམས་པར་བྱས་པ་ལ་ཡང་ཉམས་བདེ་<span style='color:red'>ཏྲ་</span>བ་དེ་ལྟ་བུ་སྐྱེ་བར་མི་འགྱུར་རོ།"
      ],
      "text/plain": [
       "<IPython.core.display.Markdown object>"
      ]
     },
     "metadata": {},
     "output_type": "display_data"
    },
    {
     "data": {
      "text/markdown": [
       "ལོ་བཅུ་གཉིས་ཀྱི་བར་དུ་ཞི་གནས་ཀྱི་སེམས་ལ་གོམས་པར་བྱས་པ་ལ་ཡང་ཉམས་བདེ་བ་དེ་ལྟ་བུ་སྐྱེ་བར་མི་འགྱུར་རོ།"
      ],
      "text/plain": [
       "<IPython.core.display.Markdown object>"
      ]
     },
     "metadata": {},
     "output_type": "display_data"
    },
    {
     "name": "stdout",
     "output_type": "stream",
     "text": [
      "\n"
     ]
    },
    {
     "data": {
      "text/markdown": [
       "དེ་ལྟར་མཐོང་ནས་ཀྱང་<span style='color:red'>ཞ</span>བཅོམ་ལྡན་འདས་ག་ལ་བ་དེར་དོང་སྟེ་ཕྱིན་ནས།"
      ],
      "text/plain": [
       "<IPython.core.display.Markdown object>"
      ]
     },
     "metadata": {},
     "output_type": "display_data"
    },
    {
     "data": {
      "text/markdown": [
       "དེ་ལྟར་མཐོང་ནས་ཀྱང་བཅོམ་ལྡན་འདས་ག་ལ་བ་དེར་དོང་སྟེ་ཕྱིན་ནས།"
      ],
      "text/plain": [
       "<IPython.core.display.Markdown object>"
      ]
     },
     "metadata": {},
     "output_type": "display_data"
    },
    {
     "name": "stdout",
     "output_type": "stream",
     "text": [
      "\n"
     ]
    },
    {
     "data": {
      "text/markdown": [
       "འབདཔས་ཉོན་མོངས་པ་ཐམས་ཅད་སྤངས་ནས།"
      ],
      "text/plain": [
       "<IPython.core.display.Markdown object>"
      ]
     },
     "metadata": {},
     "output_type": "display_data"
    },
    {
     "data": {
      "text/markdown": [
       "འབད<span style='color:red'>་</span>པས་ཉོན་མོངས་པ་ཐམས་ཅད་སྤངས་ནས།"
      ],
      "text/plain": [
       "<IPython.core.display.Markdown object>"
      ]
     },
     "metadata": {},
     "output_type": "display_data"
    },
    {
     "name": "stdout",
     "output_type": "stream",
     "text": [
      "\n"
     ]
    },
    {
     "data": {
      "text/markdown": [
       "ཙན་དནསྦངས་པ་ལྟ་བུར་བསིལ་བར་གྱུར་པ།"
      ],
      "text/plain": [
       "<IPython.core.display.Markdown object>"
      ]
     },
     "metadata": {},
     "output_type": "display_data"
    },
    {
     "data": {
      "text/markdown": [
       "ཙན་དན<span style='color:red'>་</span>སྦངས་པ་ལྟ་བུར་བསིལ་བར་གྱུར་པ།"
      ],
      "text/plain": [
       "<IPython.core.display.Markdown object>"
      ]
     },
     "metadata": {},
     "output_type": "display_data"
    },
    {
     "name": "stdout",
     "output_type": "stream",
     "text": [
      "\n"
     ]
    },
    {
     "data": {
      "text/markdown": [
       "བསྐལ་པ་བཟང་པོ་འདི་ཉིད་ལ་སྐྱེ་དགུའི་ཚེ་ལོ་ཉི་ཁྲི་ཐུབ་པ་ན<span style='color:red'>་</span>ཡང་དག་པར་རྫོགས་པའི་སངས་རྒྱས་རིག་པ་དང་།"
      ],
      "text/plain": [
       "<IPython.core.display.Markdown object>"
      ]
     },
     "metadata": {},
     "output_type": "display_data"
    },
    {
     "data": {
      "text/markdown": [
       "བསྐལ་པ་བཟང་པོ་འདི་ཉིད་ལ་སྐྱེ་དགུའི་ཚེ་ལོ་ཉི་ཁྲི་ཐུབ་པ་ན<span style='color:red'>། </span>ཡང་དག་པར་རྫོགས་པའི་སངས་རྒྱས་རིག་པ་དང་།"
      ],
      "text/plain": [
       "<IPython.core.display.Markdown object>"
      ]
     },
     "metadata": {},
     "output_type": "display_data"
    },
    {
     "name": "stdout",
     "output_type": "stream",
     "text": [
      "\n"
     ]
    },
    {
     "data": {
      "text/markdown": [
       "བདག་ཅག་རྫུ་འཕྲུལ་ཡང་མཉམས་ལ།"
      ],
      "text/plain": [
       "<IPython.core.display.Markdown object>"
      ]
     },
     "metadata": {},
     "output_type": "display_data"
    },
    {
     "data": {
      "text/markdown": [
       "བདག་ཅག་རྫུ་འཕྲུལ་ཡང་མ<span style='color:red'>་</span>ཉམས་ལ།"
      ],
      "text/plain": [
       "<IPython.core.display.Markdown object>"
      ]
     },
     "metadata": {},
     "output_type": "display_data"
    },
    {
     "name": "stdout",
     "output_type": "stream",
     "text": [
      "\n"
     ]
    }
   ],
   "source": [
    "data = find_error(test)\n",
    "show_data(data)"
   ]
  },
  {
   "cell_type": "markdown",
   "metadata": {},
   "source": [
    "Now run on whole diffs"
   ]
  },
  {
   "cell_type": "code",
   "execution_count": 80,
   "metadata": {
    "scrolled": false
   },
   "outputs": [],
   "source": [
    "data = find_error(diffs)"
   ]
  },
  {
   "cell_type": "code",
   "execution_count": 85,
   "metadata": {
    "scrolled": false
   },
   "outputs": [
    {
     "data": {
      "text/markdown": [
       "དགེ་སྦྱོང་གཽ་ཏམ་ན་རེ་ངའི་ཆོས་འདུལ་བ་འབའ་ཞིག་ལ་མཐར་ཐུག་པ་ཡོད་ཀྱིས།"
      ],
      "text/plain": [
       "<IPython.core.display.Markdown object>"
      ]
     },
     "metadata": {},
     "output_type": "display_data"
    },
    {
     "data": {
      "text/markdown": [
       "དགེ་སྦྱོང་གཽ་ཏ<span style='color:red'>་</span>མ་ན་རེ་ངའི་ཆོས་འདུལ་བ་འབའ་ཞིག་ལ་མཐར་ཐུག་པ་ཡོད་ཀྱིས།"
      ],
      "text/plain": [
       "<IPython.core.display.Markdown object>"
      ]
     },
     "metadata": {},
     "output_type": "display_data"
    },
    {
     "name": "stdout",
     "output_type": "stream",
     "text": [
      "\n"
     ]
    },
    {
     "data": {
      "text/markdown": [
       "དེ་ནས་གཞན་མུ་སྟེགས་པ་ཀུན་ཏུ་རྒྱུ་བདག་ན་རེ།"
      ],
      "text/plain": [
       "<IPython.core.display.Markdown object>"
      ]
     },
     "metadata": {},
     "output_type": "display_data"
    },
    {
     "data": {
      "text/markdown": [
       "དེ་ནས་གཞན་མུ་སྟེགས་པ་ཀུན་ཏུ་རྒྱུ་བ<span style='color:red'>་</span>དག་ན་རེ།"
      ],
      "text/plain": [
       "<IPython.core.display.Markdown object>"
      ]
     },
     "metadata": {},
     "output_type": "display_data"
    },
    {
     "name": "stdout",
     "output_type": "stream",
     "text": [
      "\n"
     ]
    },
    {
     "data": {
      "text/markdown": [
       "འདི་སྔོན་གྱི་གཏམ་རྒྱུད་ནི་པུས་ཀ་རས་ར<span style='color:blue'>་</span>འི་གཏམ་རྒྱུད་ལས་འབྱུང་བ་བཞིན་དུ།"
      ],
      "text/plain": [
       "<IPython.core.display.Markdown object>"
      ]
     },
     "metadata": {},
     "output_type": "display_data"
    },
    {
     "data": {
      "text/markdown": [
       "འདི་སྔོན་གྱི་གཏམ་རྒྱུད་ནི་པུས་ཀ་ར<span style='color:red'>་</span>ས་རའི་གཏམ་རྒྱུད་ལས་འབྱུང་བ་བཞིན་དུ།"
      ],
      "text/plain": [
       "<IPython.core.display.Markdown object>"
      ]
     },
     "metadata": {},
     "output_type": "display_data"
    },
    {
     "name": "stdout",
     "output_type": "stream",
     "text": [
      "\n"
     ]
    },
    {
     "data": {
      "text/markdown": [
       "མིང་པོ་བཞ<span style='color:red'>ེ</span>ས་སྲིང་མོ་བཞི་བསད་པའི་བར་དུ་རྒྱས་པར་བརྗོད་པར་བྱའོ།"
      ],
      "text/plain": [
       "<IPython.core.display.Markdown object>"
      ]
     },
     "metadata": {},
     "output_type": "display_data"
    },
    {
     "data": {
      "text/markdown": [
       "མིང་པོ་བཞ<span style='color:red'>ི</span>ས་སྲིང་མོ་བཞི་བསད་པའི་བར་དུ་རྒྱས་པར་བརྗོད་པར་བྱའོ།"
      ],
      "text/plain": [
       "<IPython.core.display.Markdown object>"
      ]
     },
     "metadata": {},
     "output_type": "display_data"
    },
    {
     "name": "stdout",
     "output_type": "stream",
     "text": [
      "\n"
     ]
    },
    {
     "data": {
      "text/markdown": [
       "བསྐལ་པ་བཟང་པོ་འདི་ཉིད་ལ་སྐྱེ་དགུའི་ཚེ་ལོ་ཉི་ཁྲི་ཐུབ་པ་ན<span style='color:red'>་</span>ཡང་དག་པར་རྫོགས་པའི་སངས་རྒྱས་རིག་པ་དང་ཞབས་སུ་ལྡན་པ།"
      ],
      "text/plain": [
       "<IPython.core.display.Markdown object>"
      ]
     },
     "metadata": {},
     "output_type": "display_data"
    },
    {
     "data": {
      "text/markdown": [
       "བསྐལ་པ་བཟང་པོ་འདི་ཉིད་ལ་སྐྱེ་དགུའི་ཚེ་ལོ་ཉི་ཁྲི་ཐུབ་པ་ན<span style='color:red'>། </span>ཡང་དག་པར་རྫོགས་པའི་སངས་རྒྱས་རིག་པ་དང་ཞབས་སུ་ལྡན་པ།"
      ],
      "text/plain": [
       "<IPython.core.display.Markdown object>"
      ]
     },
     "metadata": {},
     "output_type": "display_data"
    },
    {
     "name": "stdout",
     "output_type": "stream",
     "text": [
      "\n"
     ]
    },
    {
     "data": {
      "text/markdown": [
       "དེ་ནས་ཡང་དག་པར་རྫོགས་པའི་སངས་རྒྱས་འོད་སྲུང་གིས་བ་ར་ཎ་སིར་གནས་བཅས་ཏེ།"
      ],
      "text/plain": [
       "<IPython.core.display.Markdown object>"
      ]
     },
     "metadata": {},
     "output_type": "display_data"
    },
    {
     "data": {
      "text/markdown": [
       "དེ་ནས་ཡང་དག་པར་རྫོགས་པའི་སངས་རྒྱས་འོད་སྲུང་གིས་བ<span style='color:red'>ཱ</span>་ར<span style='color:blue'>ཱ</span>་ཎ་ས<span style='color:darkgreen'>ཱ</span>ིར་གནས་བཅས་ཏེ།"
      ],
      "text/plain": [
       "<IPython.core.display.Markdown object>"
      ]
     },
     "metadata": {},
     "output_type": "display_data"
    },
    {
     "name": "stdout",
     "output_type": "stream",
     "text": [
      "\n"
     ]
    },
    {
     "data": {
      "text/markdown": [
       "བ་ར་ཎ་སི་ན།"
      ],
      "text/plain": [
       "<IPython.core.display.Markdown object>"
      ]
     },
     "metadata": {},
     "output_type": "display_data"
    },
    {
     "data": {
      "text/markdown": [
       "བ<span style='color:red'>ཱ</span>་ར<span style='color:blue'>ཱ</span>་ཎ་ས<span style='color:darkgreen'>ཱ</span>ི་ན།"
      ],
      "text/plain": [
       "<IPython.core.display.Markdown object>"
      ]
     },
     "metadata": {},
     "output_type": "display_data"
    },
    {
     "name": "stdout",
     "output_type": "stream",
     "text": [
      "\n"
     ]
    },
    {
     "data": {
      "text/markdown": [
       "ཐོས་ནས་ཀྱང་ཡུལ་དྲང་སྲོངསྨྲ་བར་སོང་ནས།"
      ],
      "text/plain": [
       "<IPython.core.display.Markdown object>"
      ]
     },
     "metadata": {},
     "output_type": "display_data"
    },
    {
     "data": {
      "text/markdown": [
       "ཐོས་ནས་ཀྱང་ཡུལ་དྲང་སྲོང<span style='color:red'>་</span>སྨྲ་བར་སོང་ནས།"
      ],
      "text/plain": [
       "<IPython.core.display.Markdown object>"
      ]
     },
     "metadata": {},
     "output_type": "display_data"
    },
    {
     "name": "stdout",
     "output_type": "stream",
     "text": [
      "\n"
     ]
    },
    {
     "data": {
      "text/markdown": [
       "<span style='color:darkorchid'>། </span>དེས་ཡང་དག་པར་རྫོགས་པའི་སངས་རྒྱས་འོད་སྲུང་ལས་ཆོས་ཐོས་ནས་སྐྱབས་སུ་འགྲོ་བ་དང་།"
      ],
      "text/plain": [
       "<IPython.core.display.Markdown object>"
      ]
     },
     "metadata": {},
     "output_type": "display_data"
    },
    {
     "data": {
      "text/markdown": [
       "དེས་ཡང་དག་པར་རྫོགས་པའི་སངས་རྒྱས་འོད་སྲུང་ལས་ཆོས་ཐོས་ནས་སྐྱབས་སུ་འགྲོ་བ་དང་།"
      ],
      "text/plain": [
       "<IPython.core.display.Markdown object>"
      ]
     },
     "metadata": {},
     "output_type": "display_data"
    },
    {
     "name": "stdout",
     "output_type": "stream",
     "text": [
      "\n"
     ]
    },
    {
     "data": {
      "text/markdown": [
       "བསོད་ནམས་དག་བྱས་ནས་<span style='color:red'>ཆ</span>ེ་གཅིག་ཏུ་སྐྱབས་སུ་འགྲོ་བ་དང་།"
      ],
      "text/plain": [
       "<IPython.core.display.Markdown object>"
      ]
     },
     "metadata": {},
     "output_type": "display_data"
    },
    {
     "data": {
      "text/markdown": [
       "བསོད་ནམས་དག་བྱས་ནས་<span style='color:red'>ཚ</span>ེ་གཅིག་ཏུ་སྐྱབས་སུ་འགྲོ་བ་དང་།"
      ],
      "text/plain": [
       "<IPython.core.display.Markdown object>"
      ]
     },
     "metadata": {},
     "output_type": "display_data"
    },
    {
     "name": "stdout",
     "output_type": "stream",
     "text": [
      "\n"
     ]
    }
   ],
   "source": [
    "show_data(data[100:110])"
   ]
  },
  {
   "cell_type": "code",
   "execution_count": 98,
   "metadata": {},
   "outputs": [
    {
     "data": {
      "text/plain": [
       "'།གལ་ཏེ་བདག་ཅག་ཉེ་ཞོ་མེད་པར་བདེ་བར་འཁོར་ནམཆོད་པར་བགྱིའོ་ཞེས་གས་གསོལ་པ་དང་།'"
      ]
     },
     "execution_count": 98,
     "metadata": {},
     "output_type": "execute_result"
    }
   ],
   "source": [
    "search_text = '།གལ་ཏེ་བདག་ཅག་ཉེ་ཞོ་མེད་པར་བདེ་བར་འཁོར་ན'\n",
    "start_idx = before_raw_text.find(search_text)\n",
    "end_idx = before_raw_text[start_idx+1:].find('།')\n",
    "error_sent = before_raw_text[start_idx:start_idx+end_idx+2]\n",
    "error_sent"
   ]
  },
  {
   "cell_type": "code",
   "execution_count": 99,
   "metadata": {},
   "outputs": [
    {
     "data": {
      "text/plain": [
       "'།གལ་ཏེ་བདག་ཅག་ཉེ་ཞོ་མེད་པར་བདེ་བར་འཁོར་ན་མཆོད་པར་བགྱིའོ་ཞེས་གསོལ་བ་དང་།'"
      ]
     },
     "execution_count": 99,
     "metadata": {},
     "output_type": "execute_result"
    }
   ],
   "source": [
    "start_idx = after_raw_text.find(search_text)\n",
    "end_idx = after_raw_text[start_idx+1:].find('།')\n",
    "correct_sent = after_raw_text[start_idx:start_idx+end_idx+2]\n",
    "correct_sent"
   ]
  },
  {
   "cell_type": "code",
   "execution_count": 96,
   "metadata": {},
   "outputs": [],
   "source": [
    "from pybo import BoTokenizer"
   ]
  },
  {
   "cell_type": "code",
   "execution_count": 97,
   "metadata": {},
   "outputs": [
    {
     "name": "stdout",
     "output_type": "stream",
     "text": [
      "Building Trie... (4 s.)\n"
     ]
    }
   ],
   "source": [
    "nlp = BoTokenizer('POS')"
   ]
  },
  {
   "cell_type": "code",
   "execution_count": 101,
   "metadata": {},
   "outputs": [
    {
     "data": {
      "text/plain": [
       "('།གལ་ཏེ་བདག་ཅག་ཉེ་ཞོ་མེད་པར་བདེ་བར་འཁོར་ན་མཆོད་པར་བགྱིའོ་ཞེས་གསོལ་བ་དང་།',\n",
       " ['།',\n",
       "  'གལ་ཏེ་',\n",
       "  'བདག་ཅག་',\n",
       "  'ཉེ་ཞོ་',\n",
       "  'མེད་པར་',\n",
       "  'བདེ་བ',\n",
       "  'ར་',\n",
       "  'འཁོར་',\n",
       "  'ན་',\n",
       "  'མཆོད་པ',\n",
       "  'ར་',\n",
       "  'བགྱི',\n",
       "  'འོ་',\n",
       "  'ཞེས་',\n",
       "  'གསོལ་བ་',\n",
       "  'དང་',\n",
       "  '།'])"
      ]
     },
     "execution_count": 101,
     "metadata": {},
     "output_type": "execute_result"
    }
   ],
   "source": [
    "tokens = nlp.tokenize(correct_sent)\n",
    "content = [token.content for token in tokens]\n",
    "correct_sent, content"
   ]
  },
  {
   "cell_type": "code",
   "execution_count": 102,
   "metadata": {},
   "outputs": [
    {
     "data": {
      "text/plain": [
       "('།གལ་ཏེ་བདག་ཅག་ཉེ་ཞོ་མེད་པར་བདེ་བར་འཁོར་ནམཆོད་པར་བགྱིའོ་ཞེས་གས་གསོལ་པ་དང་།',\n",
       " ['།',\n",
       "  'གལ་ཏེ་',\n",
       "  'བདག་ཅག་',\n",
       "  'ཉེ་ཞོ་',\n",
       "  'མེད་པར་',\n",
       "  'བདེ་བ',\n",
       "  'ར་',\n",
       "  'འཁོར་',\n",
       "  'ནམཆོད་',\n",
       "  'པ',\n",
       "  'ར་',\n",
       "  'བགྱི',\n",
       "  'འོ་',\n",
       "  'ཞེས་',\n",
       "  'གས་',\n",
       "  'གསོལ་པ་',\n",
       "  'དང་',\n",
       "  '།'])"
      ]
     },
     "execution_count": 102,
     "metadata": {},
     "output_type": "execute_result"
    }
   ],
   "source": [
    "tokens = nlp.tokenize(error_sent)\n",
    "content = [token.content for token in tokens]\n",
    "error_sent, content"
   ]
  },
  {
   "cell_type": "code",
   "execution_count": null,
   "metadata": {},
   "outputs": [],
   "source": [
    "before"
   ]
  },
  {
   "cell_type": "markdown",
   "metadata": {},
   "source": [
    "New solutions:\n",
    "1. loop the correction till the ། in above example\n",
    "2. Take only the common (0) the text and search in before and after to extrac sentences"
   ]
  },
  {
   "cell_type": "code",
   "execution_count": 83,
   "metadata": {},
   "outputs": [],
   "source": [
    "def test_type1(data):\n",
    "    for d in data: assert d[0][d[2]] != d[1][d[2]], \"Incorrect data !\"\n",
    "    print(\"Passed\")"
   ]
  },
  {
   "cell_type": "code",
   "execution_count": 84,
   "metadata": {},
   "outputs": [
    {
     "name": "stdout",
     "output_type": "stream",
     "text": [
      "Passed\n"
     ]
    }
   ],
   "source": [
    "test_type1(data_type1)"
   ]
  },
  {
   "cell_type": "code",
   "execution_count": 54,
   "metadata": {},
   "outputs": [
    {
     "name": "stdout",
     "output_type": "stream",
     "text": [
      "Converted create-bospell-testdata.ipynb to nb_create-bospell-testdata.py\r\n"
     ]
    }
   ],
   "source": [
    "!./notebook2script.py create-bospell-testdata.ipynb"
   ]
  }
 ],
 "metadata": {
  "kernelspec": {
   "display_name": "Python 3",
   "language": "python",
   "name": "python3"
  },
  "language_info": {
   "codemirror_mode": {
    "name": "ipython",
    "version": 3
   },
   "file_extension": ".py",
   "mimetype": "text/x-python",
   "name": "python",
   "nbconvert_exporter": "python",
   "pygments_lexer": "ipython3",
   "version": "3.6.7"
  }
 },
 "nbformat": 4,
 "nbformat_minor": 2
}
